{
  "cells": [
    {
      "cell_type": "markdown",
      "id": "35b05425-b2c3-4fb7-b6cc-db949a15a001",
      "metadata": {
        "id": "35b05425-b2c3-4fb7-b6cc-db949a15a001"
      },
      "source": [
        "# Libraries"
      ]
    },
    {
      "cell_type": "code",
      "source": [],
      "metadata": {
        "id": "uKMpqP9mTeyb"
      },
      "id": "uKMpqP9mTeyb",
      "execution_count": null,
      "outputs": []
    },
    {
      "cell_type": "code",
      "execution_count": 1,
      "id": "e568a76e-f1f1-49eb-8f92-19ba8265364c",
      "metadata": {
        "id": "e568a76e-f1f1-49eb-8f92-19ba8265364c"
      },
      "outputs": [],
      "source": [
        "import numpy as np\n",
        "import pandas as pd\n",
        "import matplotlib.pyplot as plt\n",
        "import json\n",
        "import re"
      ]
    },
    {
      "cell_type": "markdown",
      "id": "507f08c4-7d82-43a5-a86b-ee14e6a4f459",
      "metadata": {
        "id": "507f08c4-7d82-43a5-a86b-ee14e6a4f459"
      },
      "source": [
        "## Load Dataset"
      ]
    },
    {
      "cell_type": "code",
      "source": [
        "from google.colab import drive\n",
        "drive.mount('/content/drive')"
      ],
      "metadata": {
        "colab": {
          "base_uri": "https://localhost:8080/"
        },
        "id": "KSvu2WvlDRvc",
        "outputId": "3781da76-6f1f-4e1d-e7b8-aa34c71b70af"
      },
      "id": "KSvu2WvlDRvc",
      "execution_count": 2,
      "outputs": [
        {
          "output_type": "stream",
          "name": "stdout",
          "text": [
            "Drive already mounted at /content/drive; to attempt to forcibly remount, call drive.mount(\"/content/drive\", force_remount=True).\n"
          ]
        }
      ]
    },
    {
      "cell_type": "code",
      "execution_count": 3,
      "id": "c880250c-8d52-4026-8aa2-25132597968b",
      "metadata": {
        "id": "c880250c-8d52-4026-8aa2-25132597968b"
      },
      "outputs": [],
      "source": [
        "with open('/content/drive/My Drive/MasterThesisDraft/trainset/training_set_task2.txt', 'r') as file:\n",
        "    data_one = json.load(file)\n",
        "df_train = pd.json_normalize(data_one, record_path=['labels'], meta=['id', 'text'])\n",
        "\n",
        "# data_two contains the list of dic from the devset\n",
        "with open('/content/drive/My Drive/MasterThesisDraft/trainset/dev_set_task2.txt', 'r') as file:\n",
        "    data_two = json.load(file)\n",
        "\n",
        "# data_three contains the list of dic from the devset\n",
        "with open('/content/drive/My Drive/MasterThesisDraft/testset/test_set_task2.txt', 'r') as file:\n",
        "    data_three = json.load(file)\n",
        "\n",
        "# Both datasets are flattened/normalised to make comparison\n",
        "df_dev = pd.json_normalize(data_two, record_path=['labels'], meta=['id', 'text'])\n",
        "df_test = pd.json_normalize(data_three, record_path=['labels'], meta=['id', 'text'])"
      ]
    },
    {
      "cell_type": "markdown",
      "id": "d428bdae-79ae-42cc-9dc7-fde9fa07fe75",
      "metadata": {
        "id": "d428bdae-79ae-42cc-9dc7-fde9fa07fe75"
      },
      "source": [
        "## Functions"
      ]
    },
    {
      "cell_type": "code",
      "execution_count": 4,
      "id": "cda3f72e-1919-4f37-a33b-86a4e9453f62",
      "metadata": {
        "id": "cda3f72e-1919-4f37-a33b-86a4e9453f62"
      },
      "outputs": [],
      "source": [
        "def tokenisation(text):\n",
        "    tokens = re.split(r'\\s+', text.strip())\n",
        "    return tokens"
      ]
    },
    {
      "cell_type": "code",
      "execution_count": 5,
      "id": "2e8e9ada-51b4-4ccf-8ed7-2ad3ef90a23d",
      "metadata": {
        "id": "2e8e9ada-51b4-4ccf-8ed7-2ad3ef90a23d"
      },
      "outputs": [],
      "source": [
        "def numerical_mask(text):\n",
        "    token_count = 0\n",
        "    numerical_format = []\n",
        "    done= False\n",
        "    for char in text:\n",
        "        if char == ' ':\n",
        "            numerical_format.append(-1)\n",
        "            if not done:\n",
        "                token_count += 1\n",
        "                done = True\n",
        "            #token_count += 1\n",
        "        elif char == '\\n':\n",
        "            numerical_format.append(-2)\n",
        "            if not done:\n",
        "                token_count += 1\n",
        "                done = True\n",
        "        else:\n",
        "            numerical_format.append(token_count)\n",
        "            done = False\n",
        "\n",
        "    return numerical_format"
      ]
    },
    {
      "cell_type": "code",
      "execution_count": 6,
      "id": "16c13b23-e4f3-4f86-8ecd-f58769be3e72",
      "metadata": {
        "id": "16c13b23-e4f3-4f86-8ecd-f58769be3e72"
      },
      "outputs": [],
      "source": [
        "def char_to_word_level(numerical_format,spans):\n",
        "    new_spans = []\n",
        "    for span in spans:\n",
        "        #print(span)\n",
        "        if numerical_format[span['start']] != -1 and numerical_format[span['start']] != -2:\n",
        "            start = numerical_format[span['start']]\n",
        "            #print(start)\n",
        "        else:\n",
        "            for i in range (span['start'],len(numerical_format)):\n",
        "                if numerical_format[i] != -1 and numerical_format[i] != -2:\n",
        "                    start = numerical_format[i]\n",
        "                    break\n",
        "\n",
        "        if numerical_format[(span['end'] - 1)] != -1 and numerical_format[(span['end'] - 1)] != -2:\n",
        "            end = numerical_format[(span['end']-1)]\n",
        "            #print(end)\n",
        "        else:\n",
        "            for i in range((span['end'] - 1),0, -1):\n",
        "                if numerical_format[i] != -1 and numerical_format[i] != -2:\n",
        "                    end = numerical_format[i]\n",
        "                    break\n",
        "\n",
        "        new_spans.append({'start':start,'end': end, 'technique':span['technique'], 'text_fragment': span['text_fragment']})\n",
        "\n",
        "    return new_spans"
      ]
    },
    {
      "cell_type": "code",
      "execution_count": 7,
      "id": "376dad5b-e42e-462b-ba38-5602b298f9bb",
      "metadata": {
        "id": "376dad5b-e42e-462b-ba38-5602b298f9bb"
      },
      "outputs": [],
      "source": [
        "\n",
        "def tokenise_text_and_spans_char_to_word_level(data):\n",
        "    new_data = []\n",
        "\n",
        "    for i in range(len(data)):\n",
        "        #print(i)\n",
        "        if(data[i]['labels']):\n",
        "            text_numerical_mask = numerical_mask(data[i]['text'])\n",
        "            new_spans = char_to_word_level(text_numerical_mask, data[i]['labels'])\n",
        "            new_data.append({'id':data[i]['id'],'text':tokenisation(data[i]['text']),'labels':new_spans})\n",
        "        else:\n",
        "            new_data.append({'id':data[i]['id'],'text':tokenisation(data[i]['text']),'labels':data[i]['labels']})\n",
        "\n",
        "    return new_data"
      ]
    },
    {
      "cell_type": "code",
      "execution_count": 8,
      "id": "226207f3-a4df-4843-be31-00b0ab421c2b",
      "metadata": {
        "id": "226207f3-a4df-4843-be31-00b0ab421c2b"
      },
      "outputs": [],
      "source": [
        "## Function which identifies independent spans\n",
        "def find_independent_spans(labels,df_train):\n",
        "    # Sort spans by their end position\n",
        "    labels.sort(key=lambda x: x['end'])\n",
        "\n",
        "    total_overlapping_spans = 0\n",
        "    independent_spans = []\n",
        "    last_end = -1\n",
        "    techniques = df_train['technique'].unique()\n",
        "    techniques_dict = {technique: 0 for technique in techniques}\n",
        "\n",
        "    for label in labels:\n",
        "        if label['start'] > last_end:\n",
        "            independent_spans.append(label)\n",
        "            last_end = label['end']\n",
        "        else:\n",
        "            techniques_dict[label['technique']] += 1\n",
        "            total_overlapping_spans += 1\n",
        "\n",
        "\n",
        "    return independent_spans, techniques_dict, total_overlapping_spans"
      ]
    },
    {
      "cell_type": "code",
      "execution_count": 9,
      "id": "19fa186c-8339-4b2f-a063-7716c92e39f4",
      "metadata": {
        "id": "19fa186c-8339-4b2f-a063-7716c92e39f4"
      },
      "outputs": [],
      "source": [
        "# Function to tokenize and align labels\n",
        "def tokenize_and_align_labels(short_dataset, list_name,label_all_tokens=True ):\n",
        "    # Tokenize the input tokens with truncation and word splitting enabled\n",
        "    tokenized_inputs = tokenizer(short_dataset, truncation=True, is_split_into_words=True)\n",
        "\n",
        "    labels = []\n",
        "    for i, label in enumerate(list_name):\n",
        "        # Get the word IDs for the i-th example in the batch\n",
        "        word_ids = tokenized_inputs.word_ids(batch_index=i)\n",
        "        previous_word_idx = None\n",
        "        label_ids = []\n",
        "        for word_idx in word_ids:\n",
        "            # Special tokens have a word ID that is None. We set the label to -100 so they are automatically\n",
        "            # ignored in the loss function.\n",
        "            if word_idx is None:\n",
        "                label_ids.append(-100)\n",
        "            # We set the label for the first token of each word.\n",
        "            elif word_idx != previous_word_idx:\n",
        "                label_ids.append(label[word_idx])\n",
        "            # For the other tokens in a word, we set the label to either the current label or -100, depending on\n",
        "            # the label_all_tokens flag.\n",
        "            else:\n",
        "                label_ids.append(label[word_idx] if label_all_tokens else -100)\n",
        "            previous_word_idx = word_idx\n",
        "\n",
        "        labels.append(label_ids)\n",
        "\n",
        "    # Add the aligned labels to the tokenized inputs\n",
        "    tokenized_inputs[\"labels\"] = labels\n",
        "    return tokenized_inputs"
      ]
    },
    {
      "cell_type": "code",
      "execution_count": 10,
      "id": "bb36c966-c7cd-406d-9b3e-d46b02b151aa",
      "metadata": {
        "id": "bb36c966-c7cd-406d-9b3e-d46b02b151aa"
      },
      "outputs": [],
      "source": [
        "def removing_overlapping_enclosing_spans(data, df):\n",
        "    new_data = []\n",
        "\n",
        "    for i in range(0,len(data)):\n",
        "        if(data[i]['labels']):\n",
        "            temp_spans, _, _ = find_independent_spans(data[i]['labels'],df)\n",
        "            new_data.append({'id':data[i]['id'],'text':data[i]['text'],'labels':temp_spans})\n",
        "        else:\n",
        "            new_data.append({'id':data[i]['id'],'text':data[i]['text'],'labels':data[i]['labels']})\n",
        "\n",
        "    return new_data"
      ]
    },
    {
      "cell_type": "code",
      "execution_count": 11,
      "id": "f9ae862b-cdbe-411e-95cf-ac262a663ddc",
      "metadata": {
        "id": "f9ae862b-cdbe-411e-95cf-ac262a663ddc"
      },
      "outputs": [],
      "source": [
        "def labels_to_list_and_tokens_in_list(new_info):\n",
        "    data_preprocessed_x = []\n",
        "    data_preprocessed_y = []\n",
        "\n",
        "    for text in new_info:\n",
        "        data_preprocessed_x.append(text['text'])\n",
        "        temp = [0 for i in range(len(text['text']))]\n",
        "\n",
        "        for span in text['labels']:\n",
        "            temp[span['start']] = 1\n",
        "            for i in range(span['start'] + 1, span['end'] + 1):\n",
        "                temp[i] = 2\n",
        "\n",
        "        data_preprocessed_y.append(temp)\n",
        "\n",
        "    return data_preprocessed_x, data_preprocessed_y"
      ]
    },
    {
      "cell_type": "code",
      "source": [
        "def convert_to_start_end_labels(dataset):\n",
        "    tokenised_text = []\n",
        "    span_start = []\n",
        "    span_end = []\n",
        "\n",
        "    for text in dataset:\n",
        "        tokenised_text.append(text['text'])\n",
        "\n",
        "        temp_start = [0 for i in range(len(text['text']))]\n",
        "        temp_end = [0 for i in range(len(text['text']))]\n",
        "\n",
        "        for span in text['labels']:\n",
        "            temp_start[span['start']] = 1\n",
        "            temp_end[span['end']] = 1\n",
        "\n",
        "\n",
        "        span_start.append(temp_start)\n",
        "        span_end.append(temp_end)\n",
        "\n",
        "\n",
        "    return tokenised_text, span_start, span_end"
      ],
      "metadata": {
        "id": "xUE61__U2N0w"
      },
      "id": "xUE61__U2N0w",
      "execution_count": 12,
      "outputs": []
    },
    {
      "cell_type": "code",
      "source": [
        "# Function to tokenize and align labels\n",
        "def tokenize_and_align_labels_for_start_end(dataset, start_list, end_list,label_all_tokens=True ):\n",
        "    # Tokenize the input tokens with truncation and word splitting enabled\n",
        "    tokenized_inputs = tokenizer(dataset, truncation=True, is_split_into_words=True)\n",
        "\n",
        "    start_labels = []\n",
        "    for i, label in enumerate(start_list):\n",
        "        # Get the word IDs for the i-th example in the batch\n",
        "        word_ids = tokenized_inputs.word_ids(batch_index=i)\n",
        "        previous_word_idx = None\n",
        "        label_ids = []\n",
        "        for word_idx in word_ids:\n",
        "            # Special tokens have a word ID that is None. We set the label to -100 so they are automatically\n",
        "            # ignored in the loss function.\n",
        "            if word_idx is None:\n",
        "                label_ids.append(-100)\n",
        "            # We set the label for the first token of each word.\n",
        "            elif word_idx != previous_word_idx:\n",
        "                label_ids.append(label[word_idx])\n",
        "            # For the other tokens in a word, we set the label to either the current label or -100, depending on\n",
        "            # the label_all_tokens flag.\n",
        "            else:\n",
        "                label_ids.append(label[word_idx] if label_all_tokens else -100)\n",
        "            previous_word_idx = word_idx\n",
        "\n",
        "        start_labels.append(label_ids)\n",
        "\n",
        "    end_labels = []\n",
        "    for i, label in enumerate(end_list):\n",
        "        # Get the word IDs for the i-th example in the batch\n",
        "        word_ids = tokenized_inputs.word_ids(batch_index=i)\n",
        "        previous_word_idx = None\n",
        "        label_ids = []\n",
        "        for word_idx in word_ids:\n",
        "            # Special tokens have a word ID that is None. We set the label to -100 so they are automatically\n",
        "            # ignored in the loss function.\n",
        "            if word_idx is None:\n",
        "                label_ids.append(-100)\n",
        "            # We set the label for the first token of each word.\n",
        "            elif word_idx != previous_word_idx:\n",
        "                label_ids.append(label[word_idx])\n",
        "            # For the other tokens in a word, we set the label to either the current label or -100, depending on\n",
        "            # the label_all_tokens flag.\n",
        "            else:\n",
        "                label_ids.append(label[word_idx] if label_all_tokens else -100)\n",
        "            previous_word_idx = word_idx\n",
        "\n",
        "        end_labels.append(label_ids)\n",
        "\n",
        "    # Add the aligned labels to the tokenized inputs\n",
        "    tokenized_inputs[\"span_start\"] = start_labels\n",
        "    tokenized_inputs[\"span_end\"] = end_labels\n",
        "    return tokenized_inputs"
      ],
      "metadata": {
        "id": "VhBCvB7C2tMS"
      },
      "id": "VhBCvB7C2tMS",
      "execution_count": 13,
      "outputs": []
    },
    {
      "cell_type": "markdown",
      "id": "8c28a229-7787-44a8-8b9c-9ed6f3b68262",
      "metadata": {
        "id": "8c28a229-7787-44a8-8b9c-9ed6f3b68262"
      },
      "source": [
        "## Approach 1: Token Classification (NER Method)"
      ]
    },
    {
      "cell_type": "markdown",
      "id": "3278d7b1-ec0f-464e-a849-5eb698976ccc",
      "metadata": {
        "id": "3278d7b1-ec0f-464e-a849-5eb698976ccc"
      },
      "source": [
        "#### 1: Removing Overlapping + Enclosing Spans"
      ]
    },
    {
      "cell_type": "code",
      "execution_count": 29,
      "id": "ad447b09-1f11-4817-a614-315da9e9853d",
      "metadata": {
        "id": "ad447b09-1f11-4817-a614-315da9e9853d"
      },
      "outputs": [],
      "source": [
        "concat_data_one_data_two = data_one + data_two"
      ]
    },
    {
      "cell_type": "code",
      "execution_count": 30,
      "id": "b7bc547b-ec27-4da2-bd3d-94c090127d30",
      "metadata": {
        "id": "b7bc547b-ec27-4da2-bd3d-94c090127d30"
      },
      "outputs": [],
      "source": [
        "removed_overlappping_enclosing_spans_trainset = removing_overlapping_enclosing_spans(concat_data_one_data_two, df_train)\n",
        "removed_overlappping_enclosing_spans_testset = removing_overlapping_enclosing_spans(data_three, df_test)"
      ]
    },
    {
      "cell_type": "markdown",
      "id": "759bd2b0-e669-4f1a-99c4-30be7c0eacaf",
      "metadata": {
        "id": "759bd2b0-e669-4f1a-99c4-30be7c0eacaf"
      },
      "source": [
        "#### 2: Tokenisation and character to word level"
      ]
    },
    {
      "cell_type": "code",
      "execution_count": 31,
      "id": "7882c3c2-1e70-4c39-bde2-adad5677f024",
      "metadata": {
        "id": "7882c3c2-1e70-4c39-bde2-adad5677f024"
      },
      "outputs": [],
      "source": [
        "tokenised_and_word_level_trainset = tokenise_text_and_spans_char_to_word_level(removed_overlappping_enclosing_spans_trainset)\n",
        "tokenised_and_word_level_testset = tokenise_text_and_spans_char_to_word_level(removed_overlappping_enclosing_spans_testset)"
      ]
    },
    {
      "cell_type": "code",
      "execution_count": 32,
      "id": "31dda945-0d89-4c5d-9145-4c32376665cc",
      "metadata": {
        "id": "31dda945-0d89-4c5d-9145-4c32376665cc"
      },
      "outputs": [],
      "source": [
        "tokenised_and_word_level_validation_set = tokenised_and_word_level_testset[:100]\n",
        "tokenised_and_word_level_test_set = tokenised_and_word_level_testset[100:]"
      ]
    },
    {
      "cell_type": "markdown",
      "id": "ea9da69f-e08a-4370-9709-62a4a5603691",
      "metadata": {
        "id": "ea9da69f-e08a-4370-9709-62a4a5603691"
      },
      "source": [
        "#### 3: Converting the labels to label vectors"
      ]
    },
    {
      "cell_type": "code",
      "execution_count": 33,
      "id": "8a54ee57-a8d6-410c-90a8-582393f12c2f",
      "metadata": {
        "id": "8a54ee57-a8d6-410c-90a8-582393f12c2f"
      },
      "outputs": [],
      "source": [
        "x_train, y_train = labels_to_list_and_tokens_in_list(tokenised_and_word_level_trainset)\n",
        "x_val, y_val = labels_to_list_and_tokens_in_list(tokenised_and_word_level_validation_set)\n",
        "x_test, y_test = labels_to_list_and_tokens_in_list(tokenised_and_word_level_test_set)"
      ]
    },
    {
      "cell_type": "markdown",
      "id": "5349c404-b68d-42b5-bdec-0cc3903729a7",
      "metadata": {
        "id": "5349c404-b68d-42b5-bdec-0cc3903729a7"
      },
      "source": [
        "#### Align the tokens and labels with the tokenizer"
      ]
    },
    {
      "cell_type": "code",
      "execution_count": 34,
      "id": "4892e6b8-fa78-4951-9f7c-50d82c03fdfb",
      "metadata": {
        "colab": {
          "base_uri": "https://localhost:8080/",
          "height": 240,
          "referenced_widgets": [
            "2f31e38f418247c3b510262ae7a22fe0",
            "02a0bbd0df4b4d58bf06505029d48123",
            "936ea032fb204e96a569fd50236f20f1",
            "6f49731d0883426dbf3f9f0a32bc8f10",
            "5975b6cf93eb47d38ee23b5be325f7ee",
            "8cc0c1e922144bf9a53d1b86b01221a0",
            "a300c5bc0fbd46daaac60762e53d58ee",
            "c39bf5d445b740fdbc18ce227314d6ae",
            "89d085105b524ee59cb54e3e4c6b9e81",
            "ccfd90a0827f48ab921ae861a0b73ecc",
            "d067289047254a8cbdfb81f5157711d9",
            "ff04f00b65014b0fa213b2fc873d4e45",
            "08ca76cca3e043cd9a10623fad744766",
            "de8466e239f5469fa2e83706c0f1ffe1",
            "5bc647026b214214a7909e488b210fe8",
            "e2d2900e014f43bda09eeded49b17f18",
            "a6864959478346e88826a1e8ba65c857",
            "2b078156355e4b3fabfaf820491ecbc1",
            "4af60fa4a4d64ab0847a7a22e480f9aa",
            "5929efdfb1974555b9ee3b4129304c36",
            "9bf0ee8291e54bd7b07092b617544f0d",
            "4d6e47c11d634d22a9a79628acdf69c3",
            "bfb19b1af36e4b8e94cc7625af0d031e",
            "28f2153e2c3149a6b075d52575b54b8b",
            "d8265075cba0466e87bdd437b745d2a5",
            "fc4c2020d6a94693b5aa349389df676d",
            "9247ef6de66e4a1e91372769f81fdf7d",
            "a9d65769bae0451eab730dd773ce65c1",
            "1c7164495eef4dc9846e0b8129e3f395",
            "a1fdfa07f7c74462b4efddbaae18d6c5",
            "6f6321e8db004d29aec24aa5e468c22d",
            "7cbda172156a4db7ad2407ac73c0f015",
            "7cd96c1369774be0940e5efbf0afb4b5"
          ]
        },
        "id": "4892e6b8-fa78-4951-9f7c-50d82c03fdfb",
        "outputId": "ce22b81e-62fd-405e-d4dd-17b523b1864d"
      },
      "outputs": [
        {
          "output_type": "stream",
          "name": "stderr",
          "text": [
            "/usr/local/lib/python3.10/dist-packages/huggingface_hub/file_download.py:1132: FutureWarning: `resume_download` is deprecated and will be removed in version 1.0.0. Downloads always resume when possible. If you want to force a new download, use `force_download=True`.\n",
            "  warnings.warn(\n"
          ]
        },
        {
          "output_type": "display_data",
          "data": {
            "text/plain": [
              "config.json:   0%|          | 0.00/413 [00:00<?, ?B/s]"
            ],
            "application/vnd.jupyter.widget-view+json": {
              "version_major": 2,
              "version_minor": 0,
              "model_id": "2f31e38f418247c3b510262ae7a22fe0"
            }
          },
          "metadata": {}
        },
        {
          "output_type": "display_data",
          "data": {
            "text/plain": [
              "vocab.txt:   0%|          | 0.00/213k [00:00<?, ?B/s]"
            ],
            "application/vnd.jupyter.widget-view+json": {
              "version_major": 2,
              "version_minor": 0,
              "model_id": "ff04f00b65014b0fa213b2fc873d4e45"
            }
          },
          "metadata": {}
        },
        {
          "output_type": "display_data",
          "data": {
            "text/plain": [
              "pytorch_model.bin:   0%|          | 0.00/215M [00:00<?, ?B/s]"
            ],
            "application/vnd.jupyter.widget-view+json": {
              "version_major": 2,
              "version_minor": 0,
              "model_id": "bfb19b1af36e4b8e94cc7625af0d031e"
            }
          },
          "metadata": {}
        },
        {
          "output_type": "stream",
          "name": "stderr",
          "text": [
            "/usr/local/lib/python3.10/dist-packages/transformers/modeling_utils.py:519: FutureWarning: You are using `torch.load` with `weights_only=False` (the current default value), which uses the default pickle module implicitly. It is possible to construct malicious pickle data which will execute arbitrary code during unpickling (See https://github.com/pytorch/pytorch/blob/main/SECURITY.md#untrusted-models for more details). In a future release, the default value for `weights_only` will be flipped to `True`. This limits the functions that could be executed during unpickling. Arbitrary objects will no longer be allowed to be loaded via this mode unless they are explicitly allowlisted by the user via `torch.serialization.add_safe_globals`. We recommend you start setting `weights_only=True` for any use case where you don't have full control of the loaded file. Please open an issue on GitHub for any issues related to this experimental feature.\n",
            "  return torch.load(checkpoint_file, map_location=map_location)\n",
            "Some weights of BertForTokenClassification were not initialized from the model checkpoint at SpanBERT/spanbert-base-cased and are newly initialized: ['classifier.weight', 'classifier.bias']\n",
            "You should probably TRAIN this model on a down-stream task to be able to use it for predictions and inference.\n"
          ]
        }
      ],
      "source": [
        "from transformers import AutoTokenizer, AutoModelForTokenClassification\n",
        "# spanbert-base-cased\n",
        "#tokenizer = AutoTokenizer.from_pretrained(\"bert-base-uncased\")\n",
        "#model = AutoModelForTokenClassification.from_pretrained(\"bert-base-uncased\", num_labels=3)\n",
        "tokenizer = AutoTokenizer.from_pretrained(\"SpanBERT/spanbert-base-cased\")\n",
        "model = AutoModelForTokenClassification.from_pretrained(\"SpanBERT/spanbert-base-cased\", num_labels=3)"
      ]
    },
    {
      "cell_type": "code",
      "execution_count": 35,
      "id": "fdecca2a-2a10-4973-bb48-9752c8a902db",
      "metadata": {
        "id": "fdecca2a-2a10-4973-bb48-9752c8a902db",
        "colab": {
          "base_uri": "https://localhost:8080/"
        },
        "outputId": "876f1990-2ced-45cb-e95c-b340543b5a8a"
      },
      "outputs": [
        {
          "output_type": "stream",
          "name": "stderr",
          "text": [
            "Asking to truncate to max_length but no maximum length is provided and the model has no predefined maximum length. Default to no truncation.\n"
          ]
        }
      ],
      "source": [
        "trainset_tokenized = tokenize_and_align_labels(x_train, y_train)\n",
        "valset_tokenized = tokenize_and_align_labels(x_val, y_val)\n",
        "testset_tokenized = tokenize_and_align_labels(x_test, y_test)"
      ]
    },
    {
      "cell_type": "code",
      "execution_count": 36,
      "id": "3e76be97-322b-40c3-9cd3-b1deb505f005",
      "metadata": {
        "id": "3e76be97-322b-40c3-9cd3-b1deb505f005"
      },
      "outputs": [],
      "source": [
        "# BERT's tokenizer returns the dataset in the form of a dictionary of lists (sentences).\n",
        "# we have to convert it into a list of dictionaries for training.\n",
        "def turn_dict_to_list_of_dict(d):\n",
        "    new_list = []\n",
        "\n",
        "    for labels, inputs in zip(d[\"labels\"], d[\"input_ids\"]):\n",
        "        entry = {\"input_ids\": inputs, \"labels\": labels}\n",
        "        new_list.append(entry)\n",
        "\n",
        "    return new_list"
      ]
    },
    {
      "cell_type": "code",
      "source": [
        "tokenised_train = turn_dict_to_list_of_dict(trainset_tokenized)\n",
        "tokenised_val = turn_dict_to_list_of_dict(valset_tokenized)\n",
        "tokenised_test = turn_dict_to_list_of_dict(testset_tokenized)"
      ],
      "metadata": {
        "id": "PS7cfrA6E_Kv"
      },
      "id": "PS7cfrA6E_Kv",
      "execution_count": 37,
      "outputs": []
    },
    {
      "cell_type": "code",
      "source": [
        "from transformers import DataCollatorForTokenClassification\n",
        "data_collator = DataCollatorForTokenClassification(tokenizer)"
      ],
      "metadata": {
        "id": "POTeZZuwFXp3"
      },
      "id": "POTeZZuwFXp3",
      "execution_count": 38,
      "outputs": []
    },
    {
      "cell_type": "code",
      "source": [
        "%%capture\n",
        "# Install the necessary dependencies\n",
        "%pip install datasets\n",
        "%pip install transformers\n",
        "%pip install spacy\n",
        "%pip install torch\n",
        "%pip install spacy-transformers\n",
        "%pip install transformers[torch]\n",
        "%pip install seqeval\n",
        "%pip install --upgrade pyarrow datasets\n",
        "\n",
        "## After running this section of code, you need to restart the session and run everything again without running this section of code agan for approach one."
      ],
      "metadata": {
        "collapsed": true,
        "id": "1jf4knYTFk2E"
      },
      "id": "1jf4knYTFk2E",
      "execution_count": 25,
      "outputs": []
    },
    {
      "cell_type": "code",
      "source": [
        "import numpy as np\n",
        "from datasets import load_dataset, load_metric\n",
        "\n",
        "metric = load_metric(\"seqeval\")\n",
        "label_list = {0: \"B-O\", 1: \"B-SPROPA\", 2: \"I-IPROPA\"}\n",
        "def compute_metrics(p):\n",
        "    predictions, labels = p\n",
        "    predictions = np.argmax(predictions, axis=2)\n",
        "\n",
        "    # Remove ignored index (special tokens)\n",
        "    true_predictions = [\n",
        "        [label_list[p] for (p, l) in zip(prediction, label) if l != -100]\n",
        "        for prediction, label in zip(predictions, labels)\n",
        "    ]\n",
        "    true_labels = [\n",
        "        [label_list[l] for (p, l) in zip(prediction, label) if l != -100]\n",
        "        for prediction, label in zip(predictions, labels)\n",
        "    ]\n",
        "\n",
        "    results = metric.compute(predictions=true_predictions, references=true_labels)\n",
        "    return {\n",
        "        \"precision\": results[\"overall_precision\"],\n",
        "        \"recall\": results[\"overall_recall\"],\n",
        "        \"f1\": results[\"overall_f1\"],\n",
        "        \"accuracy\": results[\"overall_accuracy\"],\n",
        "    }"
      ],
      "metadata": {
        "id": "dzIm1vk3FhVI"
      },
      "id": "dzIm1vk3FhVI",
      "execution_count": 39,
      "outputs": []
    },
    {
      "cell_type": "code",
      "source": [
        "from transformers import TrainingArguments, Trainer, EarlyStoppingCallback\n",
        "\n",
        "# Training arguments (feel free to play arround with these values)\n",
        "#model_name = \"bert-base-uncased\"\n",
        "epochs = 10\n",
        "batch_size = 4\n",
        "learning_rate = 3e-5\n",
        "\n",
        "args = TrainingArguments(\n",
        "    f\"BERT-finetuned-NER\",\n",
        "    evaluation_strategy ='epoch',\n",
        "    save_total_limit = 3,\n",
        "    learning_rate=learning_rate,\n",
        "    per_device_train_batch_size=batch_size,\n",
        "    per_device_eval_batch_size=batch_size,\n",
        "    num_train_epochs=epochs,\n",
        "    weight_decay=0.001,\n",
        "    save_strategy = 'epoch',\n",
        "    metric_for_best_model = 'f1',\n",
        "    logging_dir = './logs',\n",
        "    logging_strategy='epoch',\n",
        "    load_best_model_at_end=True\n",
        ")\n",
        "\n",
        "trainer = Trainer(\n",
        "    model,\n",
        "    args,\n",
        "    train_dataset=tokenised_train,\n",
        "    eval_dataset=tokenised_val,\n",
        "    data_collator = data_collator,\n",
        "    tokenizer=tokenizer,\n",
        "    compute_metrics=compute_metrics,\n",
        "    #callbacks = [EarlyStoppingCallback(early_stopping_patience=3)]\n",
        ")"
      ],
      "metadata": {
        "colab": {
          "base_uri": "https://localhost:8080/"
        },
        "id": "jPTwCQp6J1ds",
        "outputId": "e6c65afc-f3cb-4233-ae8c-9e980fc28275"
      },
      "id": "jPTwCQp6J1ds",
      "execution_count": 40,
      "outputs": [
        {
          "output_type": "stream",
          "name": "stderr",
          "text": [
            "/usr/local/lib/python3.10/dist-packages/accelerate/accelerator.py:447: FutureWarning: Passing the following arguments to `Accelerator` is deprecated and will be removed in version 1.0 of Accelerate: dict_keys(['dispatch_batches', 'split_batches']). Please pass an `accelerate.DataLoaderConfiguration` instead: \n",
            "dataloader_config = DataLoaderConfiguration(dispatch_batches=None, split_batches=False)\n",
            "  warnings.warn(\n"
          ]
        }
      ]
    },
    {
      "cell_type": "code",
      "source": [
        "trainer.train()"
      ],
      "metadata": {
        "colab": {
          "base_uri": "https://localhost:8080/",
          "height": 463
        },
        "id": "kP5tW7PIKc-Q",
        "outputId": "ced2d194-d3a5-4b7b-d0c8-bf6a8d1ec03b"
      },
      "id": "kP5tW7PIKc-Q",
      "execution_count": 41,
      "outputs": [
        {
          "output_type": "stream",
          "name": "stderr",
          "text": [
            "You're using a BertTokenizerFast tokenizer. Please note that with a fast tokenizer, using the `__call__` method is faster than using a method to encode the text followed by a call to the `pad` method to get a padded encoding.\n"
          ]
        },
        {
          "output_type": "display_data",
          "data": {
            "text/plain": [
              "<IPython.core.display.HTML object>"
            ],
            "text/html": [
              "\n",
              "    <div>\n",
              "      \n",
              "      <progress value='1880' max='1880' style='width:300px; height:20px; vertical-align: middle;'></progress>\n",
              "      [1880/1880 01:44, Epoch 10/10]\n",
              "    </div>\n",
              "    <table border=\"1\" class=\"dataframe\">\n",
              "  <thead>\n",
              " <tr style=\"text-align: left;\">\n",
              "      <th>Epoch</th>\n",
              "      <th>Training Loss</th>\n",
              "      <th>Validation Loss</th>\n",
              "      <th>Precision</th>\n",
              "      <th>Recall</th>\n",
              "      <th>F1</th>\n",
              "      <th>Accuracy</th>\n",
              "    </tr>\n",
              "  </thead>\n",
              "  <tbody>\n",
              "    <tr>\n",
              "      <td>1</td>\n",
              "      <td>0.838400</td>\n",
              "      <td>0.869238</td>\n",
              "      <td>0.577347</td>\n",
              "      <td>0.791541</td>\n",
              "      <td>0.667686</td>\n",
              "      <td>0.587704</td>\n",
              "    </tr>\n",
              "    <tr>\n",
              "      <td>2</td>\n",
              "      <td>0.727700</td>\n",
              "      <td>0.927544</td>\n",
              "      <td>0.588696</td>\n",
              "      <td>0.818127</td>\n",
              "      <td>0.684703</td>\n",
              "      <td>0.596733</td>\n",
              "    </tr>\n",
              "    <tr>\n",
              "      <td>3</td>\n",
              "      <td>0.565200</td>\n",
              "      <td>0.863816</td>\n",
              "      <td>0.615427</td>\n",
              "      <td>0.679758</td>\n",
              "      <td>0.645995</td>\n",
              "      <td>0.632416</td>\n",
              "    </tr>\n",
              "    <tr>\n",
              "      <td>4</td>\n",
              "      <td>0.382000</td>\n",
              "      <td>1.059143</td>\n",
              "      <td>0.611176</td>\n",
              "      <td>0.627795</td>\n",
              "      <td>0.619374</td>\n",
              "      <td>0.616939</td>\n",
              "    </tr>\n",
              "    <tr>\n",
              "      <td>5</td>\n",
              "      <td>0.294000</td>\n",
              "      <td>1.033333</td>\n",
              "      <td>0.636658</td>\n",
              "      <td>0.713595</td>\n",
              "      <td>0.672934</td>\n",
              "      <td>0.655202</td>\n",
              "    </tr>\n",
              "    <tr>\n",
              "      <td>6</td>\n",
              "      <td>0.216100</td>\n",
              "      <td>1.204052</td>\n",
              "      <td>0.613505</td>\n",
              "      <td>0.576435</td>\n",
              "      <td>0.594393</td>\n",
              "      <td>0.594153</td>\n",
              "    </tr>\n",
              "    <tr>\n",
              "      <td>7</td>\n",
              "      <td>0.177000</td>\n",
              "      <td>1.169393</td>\n",
              "      <td>0.633883</td>\n",
              "      <td>0.673716</td>\n",
              "      <td>0.653193</td>\n",
              "      <td>0.635856</td>\n",
              "    </tr>\n",
              "    <tr>\n",
              "      <td>8</td>\n",
              "      <td>0.131100</td>\n",
              "      <td>1.260697</td>\n",
              "      <td>0.616705</td>\n",
              "      <td>0.651360</td>\n",
              "      <td>0.633559</td>\n",
              "      <td>0.621238</td>\n",
              "    </tr>\n",
              "    <tr>\n",
              "      <td>9</td>\n",
              "      <td>0.116900</td>\n",
              "      <td>1.280231</td>\n",
              "      <td>0.619750</td>\n",
              "      <td>0.659819</td>\n",
              "      <td>0.639157</td>\n",
              "      <td>0.621238</td>\n",
              "    </tr>\n",
              "    <tr>\n",
              "      <td>10</td>\n",
              "      <td>0.103400</td>\n",
              "      <td>1.311073</td>\n",
              "      <td>0.619907</td>\n",
              "      <td>0.643505</td>\n",
              "      <td>0.631485</td>\n",
              "      <td>0.620808</td>\n",
              "    </tr>\n",
              "  </tbody>\n",
              "</table><p>"
            ]
          },
          "metadata": {}
        },
        {
          "output_type": "execute_result",
          "data": {
            "text/plain": [
              "TrainOutput(global_step=1880, training_loss=0.3551950718494172, metrics={'train_runtime': 104.2979, 'train_samples_per_second': 72.005, 'train_steps_per_second': 18.025, 'total_flos': 173364820627716.0, 'train_loss': 0.3551950718494172, 'epoch': 10.0})"
            ]
          },
          "metadata": {},
          "execution_count": 41
        }
      ]
    },
    {
      "cell_type": "code",
      "source": [
        "# Prepare the test data for evaluation in the same format as the training data\n",
        "label_list = {0: \"B-O\", 1: \"B-SPROPA\", 2: \"I-IPROPA\"}\n",
        "\n",
        "predictions, labels, _ = trainer.predict(tokenised_test)\n",
        "predictions = np.argmax(predictions, axis=2)\n",
        "\n",
        "# Remove the predictions for the [CLS] and [SEP] tokens\n",
        "true_predictions = [\n",
        "    [label_list[p] for (p, l) in zip(prediction, label) if l != -100]\n",
        "    for prediction, label in zip(predictions, labels)\n",
        "]\n",
        "true_labels = [\n",
        "    [label_list[l] for (p, l) in zip(prediction, label) if l != -100]\n",
        "    for prediction, label in zip(predictions, labels)\n",
        "]\n",
        "\n",
        "# Compute multiple metrics on the test restuls\n",
        "results = metric.compute(predictions=true_predictions, references=true_labels)\n",
        "results"
      ],
      "metadata": {
        "colab": {
          "base_uri": "https://localhost:8080/",
          "height": 303
        },
        "id": "gzBggVAvLA2l",
        "outputId": "35c78b50-c126-49c6-ce6c-ea81238d1dba"
      },
      "id": "gzBggVAvLA2l",
      "execution_count": 42,
      "outputs": [
        {
          "output_type": "display_data",
          "data": {
            "text/plain": [
              "<IPython.core.display.HTML object>"
            ],
            "text/html": []
          },
          "metadata": {}
        },
        {
          "output_type": "execute_result",
          "data": {
            "text/plain": [
              "{'IPROPA': {'precision': 0.03636363636363636,\n",
              "  'recall': 0.022727272727272728,\n",
              "  'f1': 0.027972027972027972,\n",
              "  'number': 88},\n",
              " 'O': {'precision': 0.6467931345980127,\n",
              "  'recall': 0.9533954727030626,\n",
              "  'f1': 0.7707212055974166,\n",
              "  'number': 1502},\n",
              " 'SPROPA': {'precision': 0.46116504854368934,\n",
              "  'recall': 0.45023696682464454,\n",
              "  'f1': 0.4556354916067147,\n",
              "  'number': 211},\n",
              " 'overall_precision': 0.6177777777777778,\n",
              " 'overall_recall': 0.8489727928928373,\n",
              " 'overall_f1': 0.7151543498596821,\n",
              " 'overall_accuracy': 0.6276083467094703}"
            ]
          },
          "metadata": {},
          "execution_count": 42
        }
      ]
    },
    {
      "cell_type": "markdown",
      "source": [],
      "metadata": {
        "id": "O4iM3UqTx7gF"
      },
      "id": "O4iM3UqTx7gF"
    },
    {
      "cell_type": "markdown",
      "source": [
        "# Approach Two"
      ],
      "metadata": {
        "id": "MZeu0LcwHG2_"
      },
      "id": "MZeu0LcwHG2_"
    },
    {
      "cell_type": "markdown",
      "source": [
        "## Data Preprocessing for approach two"
      ],
      "metadata": {
        "id": "GSZ5M_WH1rHz"
      },
      "id": "GSZ5M_WH1rHz"
    },
    {
      "cell_type": "code",
      "source": [
        "tokenised_and_word_level_trainset = tokenise_text_and_spans_char_to_word_level((data_one + data_two))\n",
        "tokenised_and_word_level_testset = tokenise_text_and_spans_char_to_word_level(data_three)\n",
        "tokenised_and_word_level_validation_set = tokenised_and_word_level_testset[:100]\n",
        "tokenised_and_word_level_test_set = tokenised_and_word_level_testset[100:]\n"
      ],
      "metadata": {
        "id": "gFc3eqct1xmV"
      },
      "id": "gFc3eqct1xmV",
      "execution_count": 43,
      "outputs": []
    },
    {
      "cell_type": "code",
      "source": [
        "from transformers import AutoTokenizer\n",
        "\n",
        "# Initialize the tokenizer\n",
        "tokenizer = AutoTokenizer.from_pretrained(\"bert-base-uncased\")\n"
      ],
      "metadata": {
        "colab": {
          "base_uri": "https://localhost:8080/"
        },
        "id": "FNunadmu3XKz",
        "outputId": "43e28319-651b-4b7b-8cb9-75da957af7fa"
      },
      "id": "FNunadmu3XKz",
      "execution_count": 44,
      "outputs": [
        {
          "output_type": "stream",
          "name": "stderr",
          "text": [
            "/usr/local/lib/python3.10/dist-packages/huggingface_hub/file_download.py:1132: FutureWarning: `resume_download` is deprecated and will be removed in version 1.0.0. Downloads always resume when possible. If you want to force a new download, use `force_download=True`.\n",
            "  warnings.warn(\n"
          ]
        }
      ]
    },
    {
      "cell_type": "code",
      "source": [
        "train_tokenised_text_list, train_span_start_list, train_span_end_list = convert_to_start_end_labels(tokenised_and_word_level_trainset)\n",
        "val_tokenised_text_list, val_span_start_list, val_span_end_list = convert_to_start_end_labels(tokenised_and_word_level_validation_set)\n",
        "test_tokenised_text_list, test_span_start_list, test_span_end_list = convert_to_start_end_labels(tokenised_and_word_level_test_set)"
      ],
      "metadata": {
        "id": "0Dho5MxE5Yu9"
      },
      "id": "0Dho5MxE5Yu9",
      "execution_count": 45,
      "outputs": []
    },
    {
      "cell_type": "code",
      "source": [
        "trainset = tokenize_and_align_labels_for_start_end(train_tokenised_text_list, train_span_start_list, train_span_end_list, label_all_tokens=False )\n",
        "valset = tokenize_and_align_labels_for_start_end(val_tokenised_text_list, val_span_start_list, val_span_end_list, label_all_tokens=False )\n",
        "testset = tokenize_and_align_labels_for_start_end(test_tokenised_text_list, test_span_start_list, test_span_end_list, label_all_tokens=False )"
      ],
      "metadata": {
        "id": "KyL51Q4X3X9O"
      },
      "id": "KyL51Q4X3X9O",
      "execution_count": 46,
      "outputs": []
    },
    {
      "cell_type": "markdown",
      "source": [
        "## Libraries for Custom Model"
      ],
      "metadata": {
        "id": "pbwQpVoR1B0o"
      },
      "id": "pbwQpVoR1B0o"
    },
    {
      "cell_type": "code",
      "source": [
        "import torch\n",
        "from torch.utils.data import Dataset\n",
        "import torch.nn as nn\n",
        "from transformers import AutoModel"
      ],
      "metadata": {
        "id": "gbnD54TVHAJx"
      },
      "id": "gbnD54TVHAJx",
      "execution_count": 47,
      "outputs": []
    },
    {
      "cell_type": "markdown",
      "source": [
        "## Dataset"
      ],
      "metadata": {
        "id": "dTT8p7vw0uN6"
      },
      "id": "dTT8p7vw0uN6"
    },
    {
      "cell_type": "code",
      "source": [
        "class CustomTokenClassificationDataset(Dataset):\n",
        "    def __init__(self, input_ids, attention_mask, labels1, labels2):\n",
        "        self.input_ids = input_ids\n",
        "        self.attention_mask = attention_mask\n",
        "        self.labels1 = labels1\n",
        "        self.labels2 = labels2\n",
        "\n",
        "    def __len__(self):\n",
        "        return len(self.input_ids)\n",
        "\n",
        "    def __getitem__(self, idx):\n",
        "        item = {\n",
        "            'input_ids': torch.tensor(self.input_ids[idx], dtype=torch.long),\n",
        "            'attention_mask': torch.tensor(self.attention_mask[idx], dtype=torch.long),\n",
        "            'labels1': torch.tensor(self.labels1[idx], dtype=torch.long),\n",
        "            'labels2': torch.tensor(self.labels2[idx], dtype=torch.long)\n",
        "        }\n",
        "        return item\n"
      ],
      "metadata": {
        "id": "fuU4CnhmKFKG"
      },
      "id": "fuU4CnhmKFKG",
      "execution_count": 48,
      "outputs": []
    },
    {
      "cell_type": "code",
      "source": [
        "train_dataset = CustomTokenClassificationDataset(\n",
        "    input_ids=trainset['input_ids'],\n",
        "    attention_mask=trainset['attention_mask'],\n",
        "    labels1=trainset['span_start'],\n",
        "    labels2=trainset['span_end']\n",
        ")\n",
        "\n",
        "val_dataset = CustomTokenClassificationDataset(\n",
        "    input_ids=valset['input_ids'],\n",
        "    attention_mask=valset['attention_mask'],\n",
        "    labels1=valset['span_start'],\n",
        "    labels2=valset['span_end']\n",
        ")\n",
        "\n",
        "test_dataset = CustomTokenClassificationDataset(\n",
        "    input_ids=testset['input_ids'],\n",
        "    attention_mask=testset['attention_mask'],\n",
        "    labels1=testset['span_start'],\n",
        "    labels2=testset['span_end']\n",
        ")"
      ],
      "metadata": {
        "id": "52jTmaix3oF0"
      },
      "id": "52jTmaix3oF0",
      "execution_count": 49,
      "outputs": []
    },
    {
      "cell_type": "code",
      "source": [
        "from torch.nn.utils.rnn import pad_sequence\n",
        "from torch.utils.data import DataLoader\n",
        "\n",
        "def custom_collate_fn(batch):\n",
        "    # Extract each component from the batch\n",
        "    input_ids = [item['input_ids'] for item in batch]\n",
        "    attention_masks = [item['attention_mask'] for item in batch]\n",
        "    labels1 = [item['labels1'] for item in batch]\n",
        "    labels2 = [item['labels2'] for item in batch]\n",
        "\n",
        "    # Pad sequences\n",
        "    input_ids_padded = pad_sequence(input_ids, batch_first=True, padding_value=0)\n",
        "    attention_masks_padded = pad_sequence(attention_masks, batch_first=True, padding_value=0)\n",
        "    labels1_padded = pad_sequence(labels1, batch_first=True, padding_value=-100)\n",
        "    labels2_padded = pad_sequence(labels2, batch_first=True, padding_value=-100)\n",
        "\n",
        "    # Return a dictionary of the padded sequences\n",
        "    return {\n",
        "        'input_ids': input_ids_padded,\n",
        "        'attention_mask': attention_masks_padded,\n",
        "        'labels1': labels1_padded,\n",
        "        'labels2': labels2_padded\n",
        "    }\n",
        "\n",
        "dataloader = DataLoader(train_dataset, batch_size=16, shuffle=True, collate_fn=custom_collate_fn)\n",
        "validation_dataloader = DataLoader(val_dataset, batch_size=16, shuffle=True, collate_fn=custom_collate_fn)\n",
        "test_dataloader = DataLoader(test_dataset, batch_size=16, shuffle=True, collate_fn=custom_collate_fn)"
      ],
      "metadata": {
        "id": "HUzsHZ7D30no"
      },
      "id": "HUzsHZ7D30no",
      "execution_count": 50,
      "outputs": []
    },
    {
      "cell_type": "markdown",
      "source": [
        "## Model"
      ],
      "metadata": {
        "id": "wwV09Ezx0qvT"
      },
      "id": "wwV09Ezx0qvT"
    },
    {
      "cell_type": "code",
      "source": [
        "class DualOutputTokenClassificationModel(nn.Module):\n",
        "    def __init__(self, model_name, num_labels1, num_labels2):\n",
        "        super(DualOutputTokenClassificationModel, self).__init__()\n",
        "        self.bert = AutoModel.from_pretrained(model_name)\n",
        "        self.classifier1 = nn.Linear(self.bert.config.hidden_size, num_labels1)\n",
        "        self.classifier2 = nn.Linear(self.bert.config.hidden_size, num_labels2)\n",
        "\n",
        "    def forward(self, input_ids, attention_mask):\n",
        "        outputs = self.bert(input_ids, attention_mask)\n",
        "        sequence_output = outputs.last_hidden_state\n",
        "\n",
        "        logits1 = self.classifier1(sequence_output)\n",
        "        logits2 = self.classifier2(sequence_output)\n",
        "\n",
        "        return logits1, logits2\n"
      ],
      "metadata": {
        "id": "_Pf9VS_PTgqB"
      },
      "id": "_Pf9VS_PTgqB",
      "execution_count": 51,
      "outputs": []
    },
    {
      "cell_type": "markdown",
      "source": [
        "## Training"
      ],
      "metadata": {
        "id": "GqE9ttBJ1OI5"
      },
      "id": "GqE9ttBJ1OI5"
    },
    {
      "cell_type": "code",
      "source": [
        "from sklearn.metrics import precision_recall_fscore_support\n",
        "import torch.optim as optim\n"
      ],
      "metadata": {
        "id": "5QFDUIKv1VH5"
      },
      "id": "5QFDUIKv1VH5",
      "execution_count": 52,
      "outputs": []
    },
    {
      "cell_type": "code",
      "source": [
        "# Instantiate the model\n",
        "model = DualOutputTokenClassificationModel(model_name='bert-base-uncased', num_labels1=2, num_labels2=2)\n",
        "#model.train()\n",
        "\n",
        "# Define loss function and optimizer\n",
        "loss_fn = nn.CrossEntropyLoss(ignore_index=-100)\n",
        "optimizer = optim.AdamW(model.parameters(), lr=3e-5)\n",
        "\n",
        "for epoch in range(15):\n",
        "    # Training loop\n",
        "    model.train()  # Set model to training mode\n",
        "    train_loss = 0.0\n",
        "    for batch in dataloader:\n",
        "        optimizer.zero_grad()\n",
        "\n",
        "        input_ids = batch['input_ids']\n",
        "        attention_mask = batch['attention_mask']\n",
        "        labels1 = batch['labels1']\n",
        "        labels2 = batch['labels2']\n",
        "\n",
        "        logits1, logits2 = model(input_ids=input_ids, attention_mask=attention_mask)\n",
        "\n",
        "        # Calculate loss for both heads\n",
        "        loss1 = loss_fn(logits1.view(-1, logits1.size(-1)), labels1.view(-1))\n",
        "        loss2 = loss_fn(logits2.view(-1, logits2.size(-1)), labels2.view(-1))\n",
        "\n",
        "        # Total loss\n",
        "        loss = loss1 + loss2\n",
        "        train_loss += loss.item()\n",
        "\n",
        "        # Backward pass and optimization\n",
        "        loss.backward()\n",
        "        optimizer.step()\n",
        "\n",
        "    avg_train_loss = train_loss / len(dataloader)\n",
        "    print(f\"Epoch {epoch+1}/{5}, Training Loss: {avg_train_loss:.4f}\")\n",
        "\n",
        "    # Validation loop\n",
        "    model.eval()  # Set model to evaluation mode\n",
        "    val_loss = 0.0\n",
        "    all_preds1, all_labels1 = [], []\n",
        "    all_preds2, all_labels2 = [], []\n",
        "\n",
        "    with torch.no_grad():  # Disable gradient computation\n",
        "        for batch in validation_dataloader:\n",
        "            input_ids = batch['input_ids']\n",
        "            attention_mask = batch['attention_mask']\n",
        "            labels1 = batch['labels1']\n",
        "            labels2 = batch['labels2']\n",
        "\n",
        "            logits1, logits2 = model(input_ids=input_ids, attention_mask=attention_mask)\n",
        "\n",
        "            # Calculate loss for both heads\n",
        "            loss1 = loss_fn(logits1.view(-1, logits1.size(-1)), labels1.view(-1))\n",
        "            loss2 = loss_fn(logits2.view(-1, logits2.size(-1)), labels2.view(-1))\n",
        "\n",
        "            # Total loss\n",
        "            loss = loss1 + loss2\n",
        "            val_loss += loss.item()\n",
        "\n",
        "            # Get the predictions by taking the argmax of the logits\n",
        "            predictions1 = torch.argmax(logits1, dim=-1)\n",
        "            predictions2 = torch.argmax(logits2, dim=-1)\n",
        "\n",
        "            # Flatten the labels and predictions for metric calculations\n",
        "            mask1 = (labels1 != -100)\n",
        "            mask2 = (labels2 != -100)\n",
        "\n",
        "            all_preds1.extend(predictions1[mask1].cpu().numpy())\n",
        "            all_labels1.extend(labels1[mask1].cpu().numpy())\n",
        "            all_preds2.extend(predictions2[mask2].cpu().numpy())\n",
        "            all_labels2.extend(labels2[mask2].cpu().numpy())\n",
        "\n",
        "    avg_val_loss = val_loss / len(validation_dataloader)\n",
        "\n",
        "    # Calculate precision, recall, f1 for each class\n",
        "    precision1, recall1, f1_1, _ = precision_recall_fscore_support(all_labels1, all_preds1, average=None, labels=[0, 1])\n",
        "    precision2, recall2, f1_2, _ = precision_recall_fscore_support(all_labels2, all_preds2, average=None, labels=[0, 1])\n",
        "\n",
        "    print(f\"Epoch {epoch+1}/{5}, Validation Loss: {avg_val_loss:.4f}\")\n",
        "    print(f\"Validation Task 1 - Precision: {precision1}, Recall: {recall1}, F1-Score: {f1_1}\")\n",
        "    print(f\"Validation Task 2 - Precision: {precision2}, Recall: {recall2}, F1-Score: {f1_2}\")\n"
      ],
      "metadata": {
        "colab": {
          "base_uri": "https://localhost:8080/"
        },
        "id": "RpC9RRgl2Wng",
        "outputId": "933f87d7-405b-4873-cdaa-292d3c483d90"
      },
      "id": "RpC9RRgl2Wng",
      "execution_count": 54,
      "outputs": [
        {
          "output_type": "stream",
          "name": "stderr",
          "text": [
            "/usr/local/lib/python3.10/dist-packages/huggingface_hub/file_download.py:1132: FutureWarning: `resume_download` is deprecated and will be removed in version 1.0.0. Downloads always resume when possible. If you want to force a new download, use `force_download=True`.\n",
            "  warnings.warn(\n"
          ]
        },
        {
          "output_type": "stream",
          "name": "stdout",
          "text": [
            "Epoch 1/5, Training Loss: 0.6288\n",
            "Epoch 1/5, Validation Loss: 0.4935\n",
            "Validation Task 1 - Precision: [0.89522629 0.72727273], Recall: [0.99792674 0.04519774], F1-Score: [0.94379085 0.08510638]\n",
            "Validation Task 2 - Precision: [0.89856876 0.64705882], Recall: [0.99586207 0.06321839], F1-Score: [0.94471704 0.11518325]\n",
            "Epoch 2/5, Training Loss: 0.4021\n",
            "Epoch 2/5, Validation Loss: 0.3938\n",
            "Validation Task 1 - Precision: [0.93520374 0.62992126], Recall: [0.967519  0.4519774], F1-Score: [0.95108696 0.52631579]\n",
            "Validation Task 2 - Precision: [0.92927308 0.68041237], Recall: [0.97862069 0.37931034], F1-Score: [0.9533087  0.48708487]\n",
            "Epoch 3/5, Training Loss: 0.2786\n",
            "Epoch 3/5, Validation Loss: 0.4121\n",
            "Validation Task 1 - Precision: [0.93413174 0.6446281 ], Recall: [0.97028334 0.44067797], F1-Score: [0.95186441 0.52348993]\n",
            "Validation Task 2 - Precision: [0.92847854 0.74418605], Recall: [0.98482759 0.36781609], F1-Score: [0.95582329 0.49230769]\n",
            "Epoch 4/5, Training Loss: 0.1809\n",
            "Epoch 4/5, Validation Loss: 0.4122\n",
            "Validation Task 1 - Precision: [0.94657534 0.60365854], Recall: [0.95507947 0.55932203], F1-Score: [0.95080839 0.58064516]\n",
            "Validation Task 2 - Precision: [0.93729373 0.72477064], Recall: [0.97931034 0.45402299], F1-Score: [0.95784148 0.55830389]\n",
            "Epoch 5/5, Training Loss: 0.1048\n",
            "Epoch 5/5, Validation Loss: 0.4956\n",
            "Validation Task 1 - Precision: [0.94245091 0.62585034], Recall: [0.96199032 0.51977401], F1-Score: [0.95212038 0.56790123]\n",
            "Validation Task 2 - Precision: [0.94011976 0.69421488], Recall: [0.97448276 0.48275862], F1-Score: [0.95699289 0.56949153]\n",
            "Epoch 6/5, Training Loss: 0.0645\n",
            "Epoch 6/5, Validation Loss: 0.6549\n",
            "Validation Task 1 - Precision: [0.95284327 0.5989011 ], Recall: [0.94955079 0.61581921], F1-Score: [0.95119418 0.60724234]\n",
            "Validation Task 2 - Precision: [0.94955692 0.63694268], Recall: [0.96068966 0.57471264], F1-Score: [0.95509085 0.60422961]\n",
            "Epoch 7/5, Training Loss: 0.0431\n",
            "Epoch 7/5, Validation Loss: 0.6491\n",
            "Validation Task 1 - Precision: [0.95231513 0.61016949], Recall: [0.95231513 0.61016949], F1-Score: [0.95231513 0.61016949]\n",
            "Validation Task 2 - Precision: [0.95628036 0.60655738], Recall: [0.95034483 0.63793103], F1-Score: [0.95330336 0.62184874]\n",
            "Epoch 8/5, Training Loss: 0.0296\n",
            "Epoch 8/5, Validation Loss: 0.7103\n",
            "Validation Task 1 - Precision: [0.9339498 0.7      ], Recall: [0.97719419 0.43502825], F1-Score: [0.95508274 0.53658537]\n",
            "Validation Task 2 - Precision: [0.93725231 0.71818182], Recall: [0.97862069 0.45402299], F1-Score: [0.95748988 0.55633803]\n",
            "Epoch 9/5, Training Loss: 0.0252\n",
            "Epoch 9/5, Validation Loss: 0.7852\n",
            "Validation Task 1 - Precision: [0.94233379 0.61333333], Recall: [0.95991707 0.51977401], F1-Score: [0.95104416 0.56269113]\n",
            "Validation Task 2 - Precision: [0.94262842 0.704     ], Recall: [0.97448276 0.50574713], F1-Score: [0.95829095 0.58862876]\n",
            "Epoch 10/5, Training Loss: 0.0190\n",
            "Epoch 10/5, Validation Loss: 0.7904\n",
            "Validation Task 1 - Precision: [0.94501018 0.63576159], Recall: [0.96199032 0.54237288], F1-Score: [0.95342466 0.58536585]\n",
            "Validation Task 2 - Precision: [0.94704684 0.63576159], Recall: [0.96206897 0.55172414], F1-Score: [0.9544988  0.59076923]\n",
            "Epoch 11/5, Training Loss: 0.0173\n",
            "Epoch 11/5, Validation Loss: 0.7060\n",
            "Validation Task 1 - Precision: [0.94463201 0.66433566], Recall: [0.96682792 0.53672316], F1-Score: [0.95560109 0.59375   ]\n",
            "Validation Task 2 - Precision: [0.94894486 0.63870968], Recall: [0.96137931 0.56896552], F1-Score: [0.95512162 0.60182371]\n",
            "Epoch 12/5, Training Loss: 0.0154\n",
            "Epoch 12/5, Validation Loss: 0.8003\n",
            "Validation Task 1 - Precision: [0.94707904 0.59171598], Recall: [0.95231513 0.56497175], F1-Score: [0.94968987 0.57803468]\n",
            "Validation Task 2 - Precision: [0.95003422 0.6196319 ], Recall: [0.95724138 0.58045977], F1-Score: [0.95362418 0.59940653]\n",
            "Epoch 13/5, Training Loss: 0.0163\n",
            "Epoch 13/5, Validation Loss: 0.7703\n",
            "Validation Task 1 - Precision: [0.94755003 0.57714286], Recall: [0.94885971 0.57062147], F1-Score: [0.94820442 0.57386364]\n",
            "Validation Task 2 - Precision: [0.94015957 0.7       ], Recall: [0.97517241 0.48275862], F1-Score: [0.95734597 0.57142857]\n",
            "Epoch 14/5, Training Loss: 0.0113\n",
            "Epoch 14/5, Validation Loss: 0.8097\n",
            "Validation Task 1 - Precision: [0.94780793 0.54545455], Recall: [0.94125777 0.57627119], F1-Score: [0.9445215  0.56043956]\n",
            "Validation Task 2 - Precision: [0.9442953  0.67910448], Recall: [0.97034483 0.52298851], F1-Score: [0.95714286 0.59090909]\n",
            "Epoch 15/5, Training Loss: 0.0083\n",
            "Epoch 15/5, Validation Loss: 0.8973\n",
            "Validation Task 1 - Precision: [0.94539249 0.61006289], Recall: [0.95715273 0.5480226 ], F1-Score: [0.95123626 0.57738095]\n",
            "Validation Task 2 - Precision: [0.94410774 0.65467626], Recall: [0.96689655 0.52298851], F1-Score: [0.95536627 0.58146965]\n"
          ]
        }
      ]
    },
    {
      "cell_type": "markdown",
      "source": [
        "## Testing"
      ],
      "metadata": {
        "id": "Pk-8mYGG7PEe"
      },
      "id": "Pk-8mYGG7PEe"
    },
    {
      "cell_type": "code",
      "source": [
        "from sklearn.metrics import precision_recall_fscore_support, accuracy_score\n",
        "\n",
        "# Set the model to evaluation mode\n",
        "model.eval()\n",
        "\n",
        "test_loss = 0.0\n",
        "all_test_preds1, all_test_labels1 = [], []\n",
        "all_test_preds2, all_test_labels2 = [], []\n",
        "\n",
        "with torch.no_grad():  # Disable gradient computation\n",
        "    for batch in test_dataloader:\n",
        "        input_ids = batch['input_ids']\n",
        "        attention_mask = batch['attention_mask']\n",
        "        labels1 = batch['labels1']\n",
        "        labels2 = batch['labels2']\n",
        "\n",
        "        logits1, logits2 = model(input_ids=input_ids, attention_mask=attention_mask)\n",
        "\n",
        "        # Calculate loss for both heads\n",
        "        loss1 = loss_fn(logits1.view(-1, logits1.size(-1)), labels1.view(-1))\n",
        "        loss2 = loss_fn(logits2.view(-1, logits2.size(-1)), labels2.view(-1))\n",
        "\n",
        "        # Total loss\n",
        "        loss = loss1 + loss2\n",
        "        test_loss += loss.item()\n",
        "\n",
        "        # Get the predictions by taking the argmax of the logits\n",
        "        predictions1 = torch.argmax(logits1, dim=-1)\n",
        "        predictions2 = torch.argmax(logits2, dim=-1)\n",
        "\n",
        "        # Mask to ignore padding and non-relevant tokens\n",
        "        mask1 = (labels1 != -100)\n",
        "        mask2 = (labels2 != -100)\n",
        "\n",
        "        all_test_preds1.extend(predictions1[mask1].cpu().numpy())\n",
        "        all_test_labels1.extend(labels1[mask1].cpu().numpy())\n",
        "        all_test_preds2.extend(predictions2[mask2].cpu().numpy())\n",
        "        all_test_labels2.extend(labels2[mask2].cpu().numpy())\n",
        "\n",
        "avg_test_loss = test_loss / len(test_dataloader)\n",
        "\n",
        "# Calculate precision, recall, f1 for each class\n",
        "precision1, recall1, f1_1, _ = precision_recall_fscore_support(all_test_labels1, all_test_preds1, average=None, labels=[0, 1])\n",
        "precision2, recall2, f1_2, _ = precision_recall_fscore_support(all_test_labels2, all_test_preds2, average=None, labels=[0, 1])\n",
        "\n",
        "# Calculate overall F1 score (micro average) and accuracy for each task\n",
        "f1_1_macro = precision_recall_fscore_support(all_test_labels1, all_test_preds1, average='macro')[2]\n",
        "f1_2_macro = precision_recall_fscore_support(all_test_labels2, all_test_preds2, average='macro')[2]\n",
        "\n",
        "accuracy1 = accuracy_score(all_test_labels1, all_test_preds1)\n",
        "accuracy2 = accuracy_score(all_test_labels2, all_test_preds2)\n",
        "\n",
        "print(f\"Test Loss: {avg_test_loss:.4f}\")\n",
        "print(f\"label 1 - Precision: {precision1}, Recall: {recall1}, F1-Score: {f1_1}\")\n",
        "print(f\"label 1 - Overall F1-Score (Macro): {f1_1_macro:.4f}, Accuracy: {accuracy1:.4f}\")\n",
        "print(f\"label 2 - Precision: {precision2}, Recall: {recall2}, F1-Score: {f1_2}\")\n",
        "print(f\"label 2 - Overall F1-Score (Macro): {f1_2_macro:.4f}, Accuracy: {accuracy2:.4f}\")\n"
      ],
      "metadata": {
        "colab": {
          "base_uri": "https://localhost:8080/"
        },
        "id": "bn8TDbI67T19",
        "outputId": "6226c950-53ec-4927-e064-2c501f389e25"
      },
      "id": "bn8TDbI67T19",
      "execution_count": 55,
      "outputs": [
        {
          "output_type": "stream",
          "name": "stdout",
          "text": [
            "Test Loss: 0.8099\n",
            "label 1 - Precision: [0.95286624 0.5030303 ], Recall: [0.94803549 0.52866242], F1-Score: [0.95044473 0.51552795]\n",
            "label 1 - Overall F1-Score (Macro): 0.7330, Accuracy: 0.9101\n",
            "label 2 - Precision: [0.96197007 0.65648855], Recall: [0.97166247 0.58503401], F1-Score: [0.96679198 0.61870504]\n",
            "label 2 - Overall F1-Score (Macro): 0.7927, Accuracy: 0.9389\n"
          ]
        }
      ]
    },
    {
      "cell_type": "markdown",
      "source": [
        "# Sequence Classifcation"
      ],
      "metadata": {
        "id": "Um8fdTJzx-D5"
      },
      "id": "Um8fdTJzx-D5"
    },
    {
      "cell_type": "markdown",
      "source": [
        "## Preprocessing"
      ],
      "metadata": {
        "id": "b-ebyo03yYbw"
      },
      "id": "b-ebyo03yYbw"
    },
    {
      "cell_type": "code",
      "source": [
        "## Functions"
      ],
      "metadata": {
        "id": "Xsi6adChy-BX"
      },
      "id": "Xsi6adChy-BX",
      "execution_count": 56,
      "outputs": []
    },
    {
      "cell_type": "code",
      "source": [
        "def tokenisation_list(lists):\n",
        "    sample = []\n",
        "    for text in lists:\n",
        "        tokenised = tokenisation(text)\n",
        "        sample.append(tokenised)\n",
        "    return sample"
      ],
      "metadata": {
        "id": "EXLBeFIMyGo7"
      },
      "id": "EXLBeFIMyGo7",
      "execution_count": 57,
      "outputs": []
    },
    {
      "cell_type": "code",
      "source": [
        "def retrieve_empty_labels(data):\n",
        "    empty_x = []\n",
        "\n",
        "    for text in data:\n",
        "        if not text['labels']:\n",
        "            empty_x.append(tokenisation(text['text']))\n",
        "\n",
        "    return empty_x"
      ],
      "metadata": {
        "id": "YhPdPbo2y29H"
      },
      "id": "YhPdPbo2y29H",
      "execution_count": 58,
      "outputs": []
    },
    {
      "cell_type": "markdown",
      "source": [
        "### Trainset"
      ],
      "metadata": {
        "id": "KHBS73qezCSp"
      },
      "id": "KHBS73qezCSp"
    },
    {
      "cell_type": "code",
      "source": [
        "x_train, y_train = df_train['text_fragment'], df_train['technique']\n",
        "x_train_dev, y_train_dev = df_dev['text_fragment'], df_dev['technique']\n",
        "\n",
        "x_train, y_train = x_train.tolist(), y_train.tolist()\n",
        "x_train_dev, y_train_dev = x_train_dev.tolist(), y_train_dev.tolist()\n",
        "\n",
        "x_train.extend(x_train_dev)\n",
        "y_train.extend(y_train_dev)\n",
        "\n",
        "x_train = tokenisation_list(x_train)"
      ],
      "metadata": {
        "id": "FIINZ_bwzFG4"
      },
      "id": "FIINZ_bwzFG4",
      "execution_count": 80,
      "outputs": []
    },
    {
      "cell_type": "code",
      "source": [
        "empty_x = []\n",
        "empty_x = retrieve_empty_labels(data_one)"
      ],
      "metadata": {
        "id": "faB58Rcizf-Q"
      },
      "id": "faB58Rcizf-Q",
      "execution_count": 81,
      "outputs": []
    },
    {
      "cell_type": "code",
      "source": [
        "empty_y = []\n",
        "for i in range(len(empty_x)):\n",
        "    empty_y.append('Non-propaganda')"
      ],
      "metadata": {
        "id": "dmosMmxSzr-I"
      },
      "id": "dmosMmxSzr-I",
      "execution_count": 82,
      "outputs": []
    },
    {
      "cell_type": "code",
      "source": [
        "x_train.extend(empty_x)\n",
        "y_train.extend(empty_y)"
      ],
      "metadata": {
        "id": "tscrbUXtzski"
      },
      "id": "tscrbUXtzski",
      "execution_count": 83,
      "outputs": []
    },
    {
      "cell_type": "code",
      "source": [
        "empty_x = []\n",
        "empty_x = retrieve_empty_labels(data_two)\n",
        "\n",
        "empty_y = []\n",
        "for i in range(len(empty_x)):\n",
        "    empty_y.append('Non-propaganda')"
      ],
      "metadata": {
        "id": "SILC7sbNzzdm"
      },
      "id": "SILC7sbNzzdm",
      "execution_count": 84,
      "outputs": []
    },
    {
      "cell_type": "code",
      "source": [
        "x_train.extend(empty_x)\n",
        "y_train.extend(empty_y)"
      ],
      "metadata": {
        "id": "CyJvbI1Pz166"
      },
      "id": "CyJvbI1Pz166",
      "execution_count": 85,
      "outputs": []
    },
    {
      "cell_type": "markdown",
      "source": [
        "### Validation and Test set"
      ],
      "metadata": {
        "id": "iQSVrMGlz6x7"
      },
      "id": "iQSVrMGlz6x7"
    },
    {
      "cell_type": "code",
      "source": [
        "x_test, y_test = df_test['text_fragment'], df_test['technique']\n",
        "x_test, y_test = x_test.tolist(), y_test.tolist()\n",
        "\n",
        "x_test = tokenisation_list(x_test)"
      ],
      "metadata": {
        "id": "SGvYYba-z8lW"
      },
      "id": "SGvYYba-z8lW",
      "execution_count": 86,
      "outputs": []
    },
    {
      "cell_type": "code",
      "source": [
        "x_val = x_test[:200]\n",
        "x_test = x_test[200:]\n",
        "y_val = y_test[:200]\n",
        "y_test = y_test[200:]"
      ],
      "metadata": {
        "id": "WLL_xq3c0Fjv"
      },
      "id": "WLL_xq3c0Fjv",
      "execution_count": 87,
      "outputs": []
    },
    {
      "cell_type": "code",
      "source": [
        "empty_x = []\n",
        "empty_x = retrieve_empty_labels(data_three)\n",
        "\n",
        "empty_y = []\n",
        "for i in range(len(empty_x)):\n",
        "    empty_y.append('Non-propaganda')"
      ],
      "metadata": {
        "id": "T6_9rnMl0Hpa"
      },
      "id": "T6_9rnMl0Hpa",
      "execution_count": 88,
      "outputs": []
    },
    {
      "cell_type": "code",
      "source": [
        "empty_x_val = empty_x[:19]\n",
        "empty_x_test = empty_x[19:]\n",
        "empty_y_val = empty_y[:19]\n",
        "empty_y_test = empty_y[19:]"
      ],
      "metadata": {
        "id": "-61SbRVg0LH4"
      },
      "id": "-61SbRVg0LH4",
      "execution_count": 89,
      "outputs": []
    },
    {
      "cell_type": "code",
      "source": [
        "x_val.extend(empty_x_val )\n",
        "y_val.extend(empty_y_val)\n",
        "x_test.extend(empty_x_test)\n",
        "y_test.extend(empty_y_test)"
      ],
      "metadata": {
        "id": "GZca20dd0MwS"
      },
      "id": "GZca20dd0MwS",
      "execution_count": 90,
      "outputs": []
    },
    {
      "cell_type": "markdown",
      "source": [
        "## Tokenisation (Tokenise, Attetion Mask and Label format)"
      ],
      "metadata": {
        "id": "W4PAXoUX0nHy"
      },
      "id": "W4PAXoUX0nHy"
    },
    {
      "cell_type": "code",
      "source": [
        "## numerical format manually\n",
        "\n",
        "label_to_id = {\n",
        "    \"Loaded Language\": 0,\n",
        "    \"Name calling/Labeling\": 1,\n",
        "    \"Smears\": 2,\n",
        "    \"Exaggeration/Minimisation\": 3,\n",
        "    \"Slogans\": 4,\n",
        "    \"Doubt\": 5,\n",
        "    \"Appeal to fear/prejudice\": 6,\n",
        "    \"Whataboutism\": 7,\n",
        "    \"Glittering generalities (Virtue)\": 8,\n",
        "    \"Flag-waving\": 9,\n",
        "    \"Causal Oversimplification\": 10,\n",
        "    \"Repetition\": 11,\n",
        "    \"Thought-terminating cliché\": 12,\n",
        "    \"Misrepresentation of Someone's Position (Straw Man)\": 13,\n",
        "    \"Black-and-white Fallacy/Dictatorship\": 14,\n",
        "    \"Appeal to authority\": 15,\n",
        "    \"Reductio ad hitlerum\": 16,\n",
        "    \"Obfuscation, Intentional vagueness, Confusion\": 17,\n",
        "    \"Bandwagon\": 18,\n",
        "    \"Presenting Irrelevant Data (Red Herring)\": 19,\n",
        "    \"Non-propaganda\": 20\n",
        "}\n",
        "\n",
        "# Encode the training, validation, and test labels\n",
        "y_train_encoded = [label_to_id[label] for label in y_train]\n",
        "y_val_encoded = [label_to_id[label] for label in y_val]\n",
        "y_test_encoded = [label_to_id[label] for label in y_test]"
      ],
      "metadata": {
        "id": "b18kS1B-0umR"
      },
      "id": "b18kS1B-0umR",
      "execution_count": 91,
      "outputs": []
    },
    {
      "cell_type": "code",
      "source": [
        "# Example: Check the first few elements of x_train\n",
        "print(x_train[:5])\n"
      ],
      "metadata": {
        "colab": {
          "base_uri": "https://localhost:8080/"
        },
        "id": "GH_LJTeD-xe3",
        "outputId": "8e8c8026-b679-4f87-d40f-53ae24619da3"
      },
      "id": "GH_LJTeD-xe3",
      "execution_count": 92,
      "outputs": [
        {
          "output_type": "stream",
          "name": "stdout",
          "text": [
            "[['THERE', 'ARE', 'ONLY', 'TWO', 'GENDERS', 'FEMALE', 'MALE'], ['POWER', 'COMES', 'FROM', 'THE', 'BARREL', 'OF', 'A', 'GUN'], ['BERNIE', 'BROS'], ['VIOLENCE'], ['MASS', 'SHOOTER']]\n"
          ]
        }
      ]
    },
    {
      "cell_type": "code",
      "source": [
        "# Join the tokens back into strings\n",
        "x_train_joined = [' '.join(tokens) for tokens in x_train]\n",
        "x_val_joined = [' '.join(tokens) for tokens in x_val]\n",
        "x_test_joined = [' '.join(tokens) for tokens in x_test]\n"
      ],
      "metadata": {
        "id": "5-9i3Lah_Lnt"
      },
      "id": "5-9i3Lah_Lnt",
      "execution_count": 93,
      "outputs": []
    },
    {
      "cell_type": "code",
      "source": [
        "from transformers import BertTokenizer, RobertaTokenizer\n",
        "\n",
        "# Load the BERT tokenizer\n",
        "#tokenizer = BertTokenizer.from_pretrained('bert-base-uncased')\n",
        "tokenizer = RobertaTokenizer.from_pretrained('roberta-base')\n",
        "# Tokenize the data\n",
        "train_encodings = tokenizer(x_train_joined, padding=True, truncation=True, max_length=128, return_tensors='pt')\n",
        "val_encodings = tokenizer(x_val_joined, padding=True, truncation=True, max_length=128, return_tensors='pt')\n",
        "test_encodings = tokenizer(x_test_joined, padding=True, truncation=True, max_length=128, return_tensors='pt')\n"
      ],
      "metadata": {
        "colab": {
          "base_uri": "https://localhost:8080/",
          "height": 233,
          "referenced_widgets": [
            "b3abc386f6a44098b9c2eba793fde5c5",
            "032a725b95724fbebcaafbb0d8d3bc84",
            "a2ae243434b64950b58245e29c96a7aa",
            "30c034fbd74643fbb1c69875aec59bff",
            "f0d0c9c063f14804a20201e85b6430db",
            "d599ab36eb614bcdbb85614990513cda",
            "a21c48ed452d4bbebfe4e9552a7afbbf",
            "ecbf34aba28f4690a6dc3f55085a31d8",
            "520294a227c64265ad41ee34b9f5ac43",
            "d8d1483a83414935a84e6abe3b47ff2d",
            "bfa4efb25de74e31a14fca0758a15694",
            "71d3b61849a641fe8470057682c5069c",
            "95dd1120cbb54acba6adac20e421b816",
            "67da86998d454b14bc17a574cd984161",
            "9f856f6efbef4bd08fa12d15ddc9de0f",
            "f594165008db402bb43ef34854c357d4",
            "3dadc02af12b40ec8b1c58d7d01cce8d",
            "21a8a17ce7c24b7094f413eeab0e4f6e",
            "933a114dbb8f4c1e9100c1cee9c626ec",
            "efd16a3cead14d45aacc7994560a1780",
            "55e4140358e145a78894e6096f1886bd",
            "296f76fec6d64c8983dc02dfe254fb3f",
            "4d17e05472034c0ab9ec109b3c60984b",
            "11af9f235e6140b0a7b71bcb2f559e56",
            "32f7f6c1899d4a1bb02f4f01b56522a1",
            "53f4f97b34aa47a196ffb745e8ca7db7",
            "cf32d5b6b4c4451ca7d920b5238efbe2",
            "2fac451a9d8e4874a55312e98174fe4b",
            "ea4c1a6babd44694978f5e1124bdfa7b",
            "91e5615b55d04ee6bb9807d651668b97",
            "843eee1028bf47ea81e27c8485bb4b43",
            "70d0670102ad480c9ac24cab9a34d2c2",
            "56ae56a14f9a4e00bea21f065acfdcdf",
            "887abf6c50d743c29cc8f7b5ab91423d",
            "158511f08cf0429c926688f6b1f33a70",
            "bc02bf304cad44db80b2a8e5c41dd524",
            "6b6aa8c8a4774616a514d40e53ddbd61",
            "d985d4ddb37344edb70034b6e3f386a3",
            "8d9dce13fbd14db8b61fcbe6cefe4311",
            "60f7ca1cbeed427fa03cb9460b18edb9",
            "c7ebdba9e7ef49b6b03bc349a2e54fff",
            "b2367d8ae34043cb811b6930277279c1",
            "32574edcce2c49a5a02e1f92b3739bb6",
            "e26a3732df4046d3be7b1d241b1ab4f1",
            "8af59f9de34c470aa4003b3858b6dede",
            "d7bf53e2a938410ba146b3f93df3bdbb",
            "9819dc3c22214c679d1f26130d1806c4",
            "cebb9f8216d9479b93e10c0b6501983e",
            "1321ee5db5b64ea08e235b29b191b0ca",
            "6684505b4a9a47b884f4cd325d250f7b",
            "f973cbf69ac046eaadb3272233ece9de",
            "c10b619fad0a462eb46de7e57c2caed2",
            "0d3f356d001e4562926db78122b19f10",
            "8b63c1480611475f9f08304781cce063",
            "694825fa25d045e88dd20b7615d10520"
          ]
        },
        "id": "6iFzOV5B8WxE",
        "outputId": "99f30539-b139-48df-9a9d-5e3cf80fb3e0"
      },
      "id": "6iFzOV5B8WxE",
      "execution_count": 94,
      "outputs": [
        {
          "output_type": "stream",
          "name": "stderr",
          "text": [
            "/usr/local/lib/python3.10/dist-packages/huggingface_hub/file_download.py:1132: FutureWarning: `resume_download` is deprecated and will be removed in version 1.0.0. Downloads always resume when possible. If you want to force a new download, use `force_download=True`.\n",
            "  warnings.warn(\n"
          ]
        },
        {
          "output_type": "display_data",
          "data": {
            "text/plain": [
              "tokenizer_config.json:   0%|          | 0.00/25.0 [00:00<?, ?B/s]"
            ],
            "application/vnd.jupyter.widget-view+json": {
              "version_major": 2,
              "version_minor": 0,
              "model_id": "b3abc386f6a44098b9c2eba793fde5c5"
            }
          },
          "metadata": {}
        },
        {
          "output_type": "display_data",
          "data": {
            "text/plain": [
              "vocab.json:   0%|          | 0.00/899k [00:00<?, ?B/s]"
            ],
            "application/vnd.jupyter.widget-view+json": {
              "version_major": 2,
              "version_minor": 0,
              "model_id": "71d3b61849a641fe8470057682c5069c"
            }
          },
          "metadata": {}
        },
        {
          "output_type": "display_data",
          "data": {
            "text/plain": [
              "merges.txt:   0%|          | 0.00/456k [00:00<?, ?B/s]"
            ],
            "application/vnd.jupyter.widget-view+json": {
              "version_major": 2,
              "version_minor": 0,
              "model_id": "4d17e05472034c0ab9ec109b3c60984b"
            }
          },
          "metadata": {}
        },
        {
          "output_type": "display_data",
          "data": {
            "text/plain": [
              "tokenizer.json:   0%|          | 0.00/1.36M [00:00<?, ?B/s]"
            ],
            "application/vnd.jupyter.widget-view+json": {
              "version_major": 2,
              "version_minor": 0,
              "model_id": "887abf6c50d743c29cc8f7b5ab91423d"
            }
          },
          "metadata": {}
        },
        {
          "output_type": "display_data",
          "data": {
            "text/plain": [
              "config.json:   0%|          | 0.00/481 [00:00<?, ?B/s]"
            ],
            "application/vnd.jupyter.widget-view+json": {
              "version_major": 2,
              "version_minor": 0,
              "model_id": "8af59f9de34c470aa4003b3858b6dede"
            }
          },
          "metadata": {}
        }
      ]
    },
    {
      "cell_type": "code",
      "source": [
        "import torch\n",
        "from torch.utils.data import Dataset\n",
        "\n",
        "class CustomDataset(Dataset):\n",
        "    def __init__(self, encodings, labels):\n",
        "        self.encodings = encodings\n",
        "        self.labels = labels\n",
        "\n",
        "    def __getitem__(self, idx):\n",
        "        item = {key: val[idx] for key, val in self.encodings.items()}\n",
        "        item['labels'] = torch.tensor(self.labels[idx])\n",
        "        return item\n",
        "\n",
        "    def __len__(self):\n",
        "        return len(self.labels)\n",
        "\n",
        "# Create the dataset objects\n",
        "train_dataset = CustomDataset(train_encodings, y_train_encoded)\n",
        "val_dataset = CustomDataset(val_encodings, y_val_encoded)\n",
        "test_dataset = CustomDataset(test_encodings, y_test_encoded)"
      ],
      "metadata": {
        "id": "hc7B4F558g60"
      },
      "id": "hc7B4F558g60",
      "execution_count": 95,
      "outputs": []
    },
    {
      "cell_type": "markdown",
      "source": [
        "### Model Training"
      ],
      "metadata": {
        "id": "t-koWM0N6WEJ"
      },
      "id": "t-koWM0N6WEJ"
    },
    {
      "cell_type": "code",
      "source": [
        "from sklearn.metrics import accuracy_score, f1_score\n",
        "import numpy as np\n",
        "\n",
        "def compute_metrics(pred):\n",
        "    labels = pred.label_ids\n",
        "    preds = np.argmax(pred.predictions, axis=1)\n",
        "\n",
        "    accuracy = accuracy_score(labels, preds)\n",
        "    f1 = f1_score(labels, preds, average='weighted')\n",
        "\n",
        "    return {\n",
        "        'accuracy': accuracy,\n",
        "        'f1': f1,\n",
        "    }\n"
      ],
      "metadata": {
        "id": "glligWuo9C5H"
      },
      "id": "glligWuo9C5H",
      "execution_count": 96,
      "outputs": []
    },
    {
      "cell_type": "code",
      "source": [
        "from transformers import BertForSequenceClassification, Trainer, TrainingArguments, RobertaForSequenceClassification\n",
        "\n",
        "# Load a pre-trained BERT model with a classification head\n",
        "#model = BertForSequenceClassification.from_pretrained('bert-base-uncased', num_labels=21)\n",
        "model = RobertaForSequenceClassification.from_pretrained('roberta-base', num_labels=21)\n",
        "# Define training arguments\n",
        "epoch = 30\n",
        "decay = 0.1\n",
        "l_r = 5e-5\n",
        "\n",
        "training_args = TrainingArguments(\n",
        "    output_dir='./results',          # Output directory for saving model checkpoints\n",
        "    num_train_epochs=epoch,              # Number of training epochs\n",
        "    per_device_train_batch_size=16,  # Batch size per device during training\n",
        "    per_device_eval_batch_size=16,   # Batch size for evaluation\n",
        "    warmup_steps=500,                # Number of warmup steps for learning rate scheduler\n",
        "    weight_decay=decay,               # Strength of weight decay\n",
        "    logging_dir='./logs',            # Directory for storing logs\n",
        "    logging_steps=10,                # Log every 10 steps\n",
        "    evaluation_strategy=\"epoch\",     # Evaluate at the end of each epoch\n",
        "    save_strategy=\"epoch\",           # Save the model at the end of each epoch\n",
        "    learning_rate = l_r\n",
        ")\n",
        "\n",
        "# Initialize the Trainer\n",
        "trainer = Trainer(\n",
        "    model=model,\n",
        "    args=training_args,\n",
        "    train_dataset=train_dataset,\n",
        "    eval_dataset=val_dataset,\n",
        "    compute_metrics=compute_metrics\n",
        ")\n"
      ],
      "metadata": {
        "colab": {
          "base_uri": "https://localhost:8080/"
        },
        "id": "_P4c3WQr6Ykd",
        "outputId": "4c1fd10b-a92a-4b5b-926b-bc4946313738"
      },
      "id": "_P4c3WQr6Ykd",
      "execution_count": 107,
      "outputs": [
        {
          "output_type": "stream",
          "name": "stderr",
          "text": [
            "/usr/local/lib/python3.10/dist-packages/huggingface_hub/file_download.py:1132: FutureWarning: `resume_download` is deprecated and will be removed in version 1.0.0. Downloads always resume when possible. If you want to force a new download, use `force_download=True`.\n",
            "  warnings.warn(\n",
            "Some weights of RobertaForSequenceClassification were not initialized from the model checkpoint at roberta-base and are newly initialized: ['classifier.out_proj.bias', 'classifier.dense.bias', 'classifier.dense.weight', 'classifier.out_proj.weight']\n",
            "You should probably TRAIN this model on a down-stream task to be able to use it for predictions and inference.\n",
            "/usr/local/lib/python3.10/dist-packages/accelerate/accelerator.py:447: FutureWarning: Passing the following arguments to `Accelerator` is deprecated and will be removed in version 1.0 of Accelerate: dict_keys(['dispatch_batches', 'split_batches']). Please pass an `accelerate.DataLoaderConfiguration` instead: \n",
            "dataloader_config = DataLoaderConfiguration(dispatch_batches=None, split_batches=False)\n",
            "  warnings.warn(\n"
          ]
        }
      ]
    },
    {
      "cell_type": "code",
      "source": [
        "trainer.train()"
      ],
      "metadata": {
        "colab": {
          "base_uri": "https://localhost:8080/",
          "height": 1000
        },
        "id": "MUk-STf38rqM",
        "outputId": "6408dbc9-ce36-43f1-b0e2-34bfe18c0f09"
      },
      "id": "MUk-STf38rqM",
      "execution_count": 108,
      "outputs": [
        {
          "output_type": "display_data",
          "data": {
            "text/plain": [
              "<IPython.core.display.HTML object>"
            ],
            "text/html": [
              "\n",
              "    <div>\n",
              "      \n",
              "      <progress value='3450' max='3450' style='width:300px; height:20px; vertical-align: middle;'></progress>\n",
              "      [3450/3450 06:11, Epoch 30/30]\n",
              "    </div>\n",
              "    <table border=\"1\" class=\"dataframe\">\n",
              "  <thead>\n",
              " <tr style=\"text-align: left;\">\n",
              "      <th>Epoch</th>\n",
              "      <th>Training Loss</th>\n",
              "      <th>Validation Loss</th>\n",
              "      <th>Accuracy</th>\n",
              "      <th>F1</th>\n",
              "    </tr>\n",
              "  </thead>\n",
              "  <tbody>\n",
              "    <tr>\n",
              "      <td>1</td>\n",
              "      <td>2.132200</td>\n",
              "      <td>2.068942</td>\n",
              "      <td>0.374429</td>\n",
              "      <td>0.252958</td>\n",
              "    </tr>\n",
              "    <tr>\n",
              "      <td>2</td>\n",
              "      <td>1.628900</td>\n",
              "      <td>1.783640</td>\n",
              "      <td>0.447489</td>\n",
              "      <td>0.396959</td>\n",
              "    </tr>\n",
              "    <tr>\n",
              "      <td>3</td>\n",
              "      <td>1.523700</td>\n",
              "      <td>1.684415</td>\n",
              "      <td>0.484018</td>\n",
              "      <td>0.418638</td>\n",
              "    </tr>\n",
              "    <tr>\n",
              "      <td>4</td>\n",
              "      <td>1.341200</td>\n",
              "      <td>1.638495</td>\n",
              "      <td>0.461187</td>\n",
              "      <td>0.412662</td>\n",
              "    </tr>\n",
              "    <tr>\n",
              "      <td>5</td>\n",
              "      <td>1.189300</td>\n",
              "      <td>1.549683</td>\n",
              "      <td>0.534247</td>\n",
              "      <td>0.517863</td>\n",
              "    </tr>\n",
              "    <tr>\n",
              "      <td>6</td>\n",
              "      <td>0.767900</td>\n",
              "      <td>1.546371</td>\n",
              "      <td>0.552511</td>\n",
              "      <td>0.520973</td>\n",
              "    </tr>\n",
              "    <tr>\n",
              "      <td>7</td>\n",
              "      <td>0.824300</td>\n",
              "      <td>1.578929</td>\n",
              "      <td>0.538813</td>\n",
              "      <td>0.539198</td>\n",
              "    </tr>\n",
              "    <tr>\n",
              "      <td>8</td>\n",
              "      <td>0.536300</td>\n",
              "      <td>1.618134</td>\n",
              "      <td>0.538813</td>\n",
              "      <td>0.541698</td>\n",
              "    </tr>\n",
              "    <tr>\n",
              "      <td>9</td>\n",
              "      <td>0.685500</td>\n",
              "      <td>1.671058</td>\n",
              "      <td>0.561644</td>\n",
              "      <td>0.557882</td>\n",
              "    </tr>\n",
              "    <tr>\n",
              "      <td>10</td>\n",
              "      <td>0.560400</td>\n",
              "      <td>1.865369</td>\n",
              "      <td>0.547945</td>\n",
              "      <td>0.541230</td>\n",
              "    </tr>\n",
              "    <tr>\n",
              "      <td>11</td>\n",
              "      <td>0.462000</td>\n",
              "      <td>1.719309</td>\n",
              "      <td>0.570776</td>\n",
              "      <td>0.561991</td>\n",
              "    </tr>\n",
              "    <tr>\n",
              "      <td>12</td>\n",
              "      <td>0.415500</td>\n",
              "      <td>1.740741</td>\n",
              "      <td>0.561644</td>\n",
              "      <td>0.552915</td>\n",
              "    </tr>\n",
              "    <tr>\n",
              "      <td>13</td>\n",
              "      <td>0.321300</td>\n",
              "      <td>2.094706</td>\n",
              "      <td>0.497717</td>\n",
              "      <td>0.499178</td>\n",
              "    </tr>\n",
              "    <tr>\n",
              "      <td>14</td>\n",
              "      <td>0.293400</td>\n",
              "      <td>1.859526</td>\n",
              "      <td>0.566210</td>\n",
              "      <td>0.558999</td>\n",
              "    </tr>\n",
              "    <tr>\n",
              "      <td>15</td>\n",
              "      <td>0.377900</td>\n",
              "      <td>1.901198</td>\n",
              "      <td>0.547945</td>\n",
              "      <td>0.546262</td>\n",
              "    </tr>\n",
              "    <tr>\n",
              "      <td>16</td>\n",
              "      <td>0.426600</td>\n",
              "      <td>1.902859</td>\n",
              "      <td>0.543379</td>\n",
              "      <td>0.536375</td>\n",
              "    </tr>\n",
              "    <tr>\n",
              "      <td>17</td>\n",
              "      <td>0.318500</td>\n",
              "      <td>1.844446</td>\n",
              "      <td>0.534247</td>\n",
              "      <td>0.539434</td>\n",
              "    </tr>\n",
              "    <tr>\n",
              "      <td>18</td>\n",
              "      <td>0.331200</td>\n",
              "      <td>2.066871</td>\n",
              "      <td>0.547945</td>\n",
              "      <td>0.542561</td>\n",
              "    </tr>\n",
              "    <tr>\n",
              "      <td>19</td>\n",
              "      <td>0.273900</td>\n",
              "      <td>2.155786</td>\n",
              "      <td>0.552511</td>\n",
              "      <td>0.537653</td>\n",
              "    </tr>\n",
              "    <tr>\n",
              "      <td>20</td>\n",
              "      <td>0.317400</td>\n",
              "      <td>2.195612</td>\n",
              "      <td>0.515982</td>\n",
              "      <td>0.507741</td>\n",
              "    </tr>\n",
              "    <tr>\n",
              "      <td>21</td>\n",
              "      <td>0.289000</td>\n",
              "      <td>2.286968</td>\n",
              "      <td>0.525114</td>\n",
              "      <td>0.524888</td>\n",
              "    </tr>\n",
              "    <tr>\n",
              "      <td>22</td>\n",
              "      <td>0.282000</td>\n",
              "      <td>2.173058</td>\n",
              "      <td>0.584475</td>\n",
              "      <td>0.585653</td>\n",
              "    </tr>\n",
              "    <tr>\n",
              "      <td>23</td>\n",
              "      <td>0.280700</td>\n",
              "      <td>2.214168</td>\n",
              "      <td>0.547945</td>\n",
              "      <td>0.544224</td>\n",
              "    </tr>\n",
              "    <tr>\n",
              "      <td>24</td>\n",
              "      <td>0.265800</td>\n",
              "      <td>2.113524</td>\n",
              "      <td>0.561644</td>\n",
              "      <td>0.554559</td>\n",
              "    </tr>\n",
              "    <tr>\n",
              "      <td>25</td>\n",
              "      <td>0.276300</td>\n",
              "      <td>2.298808</td>\n",
              "      <td>0.570776</td>\n",
              "      <td>0.562538</td>\n",
              "    </tr>\n",
              "    <tr>\n",
              "      <td>26</td>\n",
              "      <td>0.265500</td>\n",
              "      <td>2.291778</td>\n",
              "      <td>0.566210</td>\n",
              "      <td>0.560091</td>\n",
              "    </tr>\n",
              "    <tr>\n",
              "      <td>27</td>\n",
              "      <td>0.187400</td>\n",
              "      <td>2.297542</td>\n",
              "      <td>0.566210</td>\n",
              "      <td>0.555509</td>\n",
              "    </tr>\n",
              "    <tr>\n",
              "      <td>28</td>\n",
              "      <td>0.253800</td>\n",
              "      <td>2.276872</td>\n",
              "      <td>0.579909</td>\n",
              "      <td>0.573668</td>\n",
              "    </tr>\n",
              "    <tr>\n",
              "      <td>29</td>\n",
              "      <td>0.179100</td>\n",
              "      <td>2.269566</td>\n",
              "      <td>0.561644</td>\n",
              "      <td>0.559431</td>\n",
              "    </tr>\n",
              "    <tr>\n",
              "      <td>30</td>\n",
              "      <td>0.137600</td>\n",
              "      <td>2.275466</td>\n",
              "      <td>0.575342</td>\n",
              "      <td>0.570575</td>\n",
              "    </tr>\n",
              "  </tbody>\n",
              "</table><p>"
            ]
          },
          "metadata": {}
        },
        {
          "output_type": "stream",
          "name": "stderr",
          "text": [
            "Checkpoint destination directory ./results/checkpoint-115 already exists and is non-empty.Saving will proceed but saved results may be invalid.\n",
            "Checkpoint destination directory ./results/checkpoint-230 already exists and is non-empty.Saving will proceed but saved results may be invalid.\n",
            "Checkpoint destination directory ./results/checkpoint-345 already exists and is non-empty.Saving will proceed but saved results may be invalid.\n",
            "Checkpoint destination directory ./results/checkpoint-460 already exists and is non-empty.Saving will proceed but saved results may be invalid.\n",
            "Checkpoint destination directory ./results/checkpoint-575 already exists and is non-empty.Saving will proceed but saved results may be invalid.\n",
            "Checkpoint destination directory ./results/checkpoint-690 already exists and is non-empty.Saving will proceed but saved results may be invalid.\n",
            "Checkpoint destination directory ./results/checkpoint-805 already exists and is non-empty.Saving will proceed but saved results may be invalid.\n",
            "Checkpoint destination directory ./results/checkpoint-920 already exists and is non-empty.Saving will proceed but saved results may be invalid.\n",
            "Checkpoint destination directory ./results/checkpoint-1035 already exists and is non-empty.Saving will proceed but saved results may be invalid.\n",
            "Checkpoint destination directory ./results/checkpoint-1150 already exists and is non-empty.Saving will proceed but saved results may be invalid.\n",
            "Checkpoint destination directory ./results/checkpoint-1265 already exists and is non-empty.Saving will proceed but saved results may be invalid.\n",
            "Checkpoint destination directory ./results/checkpoint-1380 already exists and is non-empty.Saving will proceed but saved results may be invalid.\n",
            "Checkpoint destination directory ./results/checkpoint-1495 already exists and is non-empty.Saving will proceed but saved results may be invalid.\n",
            "Checkpoint destination directory ./results/checkpoint-1610 already exists and is non-empty.Saving will proceed but saved results may be invalid.\n",
            "Checkpoint destination directory ./results/checkpoint-1725 already exists and is non-empty.Saving will proceed but saved results may be invalid.\n",
            "Checkpoint destination directory ./results/checkpoint-1840 already exists and is non-empty.Saving will proceed but saved results may be invalid.\n",
            "Checkpoint destination directory ./results/checkpoint-1955 already exists and is non-empty.Saving will proceed but saved results may be invalid.\n",
            "Checkpoint destination directory ./results/checkpoint-2070 already exists and is non-empty.Saving will proceed but saved results may be invalid.\n",
            "Checkpoint destination directory ./results/checkpoint-2185 already exists and is non-empty.Saving will proceed but saved results may be invalid.\n",
            "Checkpoint destination directory ./results/checkpoint-2300 already exists and is non-empty.Saving will proceed but saved results may be invalid.\n",
            "Checkpoint destination directory ./results/checkpoint-2415 already exists and is non-empty.Saving will proceed but saved results may be invalid.\n",
            "Checkpoint destination directory ./results/checkpoint-2530 already exists and is non-empty.Saving will proceed but saved results may be invalid.\n",
            "Checkpoint destination directory ./results/checkpoint-2645 already exists and is non-empty.Saving will proceed but saved results may be invalid.\n",
            "Checkpoint destination directory ./results/checkpoint-2760 already exists and is non-empty.Saving will proceed but saved results may be invalid.\n",
            "Checkpoint destination directory ./results/checkpoint-2875 already exists and is non-empty.Saving will proceed but saved results may be invalid.\n",
            "Checkpoint destination directory ./results/checkpoint-2990 already exists and is non-empty.Saving will proceed but saved results may be invalid.\n",
            "Checkpoint destination directory ./results/checkpoint-3105 already exists and is non-empty.Saving will proceed but saved results may be invalid.\n",
            "Checkpoint destination directory ./results/checkpoint-3220 already exists and is non-empty.Saving will proceed but saved results may be invalid.\n",
            "Checkpoint destination directory ./results/checkpoint-3335 already exists and is non-empty.Saving will proceed but saved results may be invalid.\n",
            "Checkpoint destination directory ./results/checkpoint-3450 already exists and is non-empty.Saving will proceed but saved results may be invalid.\n"
          ]
        },
        {
          "output_type": "execute_result",
          "data": {
            "text/plain": [
              "TrainOutput(global_step=3450, training_loss=0.5807988569356393, metrics={'train_runtime': 371.5936, 'train_samples_per_second': 148.388, 'train_steps_per_second': 9.284, 'total_flos': 2947428768173760.0, 'train_loss': 0.5807988569356393, 'epoch': 30.0})"
            ]
          },
          "metadata": {},
          "execution_count": 108
        }
      ]
    },
    {
      "cell_type": "code",
      "source": [
        "# Assuming you have a test dataset ready\n",
        "predictions = trainer.predict(test_dataset)\n",
        "\n",
        "# Get the logits (raw model outputs), and convert them to probabilities (optional, for ROC curve)\n",
        "logits = predictions.predictions\n",
        "probabilities = torch.softmax(torch.tensor(logits), dim=-1).numpy()\n",
        "\n",
        "# Get the predicted class indices\n",
        "predicted_labels = logits.argmax(axis=1)\n",
        "\n",
        "# True labels\n",
        "true_labels = predictions.label_ids\n"
      ],
      "metadata": {
        "colab": {
          "base_uri": "https://localhost:8080/",
          "height": 17
        },
        "id": "lpekiWl_8xPT",
        "outputId": "e876b74b-cee8-4e1f-d1c4-a1338c7aac81"
      },
      "id": "lpekiWl_8xPT",
      "execution_count": 109,
      "outputs": [
        {
          "output_type": "display_data",
          "data": {
            "text/plain": [
              "<IPython.core.display.HTML object>"
            ],
            "text/html": []
          },
          "metadata": {}
        }
      ]
    },
    {
      "cell_type": "code",
      "source": [
        "target_names = list(label_to_id.keys())  # Get the class names in order"
      ],
      "metadata": {
        "id": "auamQlEmOypr"
      },
      "id": "auamQlEmOypr",
      "execution_count": 110,
      "outputs": []
    },
    {
      "cell_type": "code",
      "source": [
        "from sklearn.metrics import classification_report\n",
        "\n",
        "# Generate a classification report\n",
        "target_names = list(label_to_id.keys())  # Get the class names in order\n",
        "report = classification_report(true_labels, predicted_labels)\n",
        "\n",
        "print(\"Classification Report:\\n\", report)\n",
        "\n"
      ],
      "metadata": {
        "colab": {
          "base_uri": "https://localhost:8080/"
        },
        "id": "PgaEWOrtNCnG",
        "outputId": "872f2e0f-a350-428b-e2b5-f9e5f1fa6cb0"
      },
      "id": "PgaEWOrtNCnG",
      "execution_count": 111,
      "outputs": [
        {
          "output_type": "stream",
          "name": "stdout",
          "text": [
            "Classification Report:\n",
            "               precision    recall  f1-score   support\n",
            "\n",
            "           0       0.84      0.89      0.86        81\n",
            "           1       0.68      0.54      0.60        35\n",
            "           2       0.38      0.50      0.43        24\n",
            "           3       0.50      0.40      0.44        10\n",
            "           4       0.00      0.00      0.00         8\n",
            "           5       0.33      0.27      0.30        11\n",
            "           6       0.25      0.25      0.25         4\n",
            "           7       0.25      0.14      0.18         7\n",
            "           8       0.33      0.20      0.25         5\n",
            "           9       1.00      1.00      1.00         1\n",
            "          10       0.14      1.00      0.25         2\n",
            "          11       0.00      0.00      0.00         0\n",
            "          12       0.25      0.33      0.29         3\n",
            "          13       0.00      0.00      0.00         1\n",
            "          14       0.00      0.00      0.00         2\n",
            "          15       0.50      0.33      0.40         3\n",
            "          16       0.00      0.00      0.00         2\n",
            "          18       0.00      0.00      0.00         1\n",
            "          19       0.00      0.00      0.00         3\n",
            "          20       0.52      0.55      0.53        22\n",
            "\n",
            "    accuracy                           0.58       225\n",
            "   macro avg       0.30      0.32      0.29       225\n",
            "weighted avg       0.57      0.58      0.57       225\n",
            "\n"
          ]
        },
        {
          "output_type": "stream",
          "name": "stderr",
          "text": [
            "/usr/local/lib/python3.10/dist-packages/sklearn/metrics/_classification.py:1471: UndefinedMetricWarning: Precision and F-score are ill-defined and being set to 0.0 in labels with no predicted samples. Use `zero_division` parameter to control this behavior.\n",
            "  _warn_prf(average, modifier, msg_start, len(result))\n",
            "/usr/local/lib/python3.10/dist-packages/sklearn/metrics/_classification.py:1471: UndefinedMetricWarning: Recall and F-score are ill-defined and being set to 0.0 in labels with no true samples. Use `zero_division` parameter to control this behavior.\n",
            "  _warn_prf(average, modifier, msg_start, len(result))\n",
            "/usr/local/lib/python3.10/dist-packages/sklearn/metrics/_classification.py:1471: UndefinedMetricWarning: Precision and F-score are ill-defined and being set to 0.0 in labels with no predicted samples. Use `zero_division` parameter to control this behavior.\n",
            "  _warn_prf(average, modifier, msg_start, len(result))\n",
            "/usr/local/lib/python3.10/dist-packages/sklearn/metrics/_classification.py:1471: UndefinedMetricWarning: Recall and F-score are ill-defined and being set to 0.0 in labels with no true samples. Use `zero_division` parameter to control this behavior.\n",
            "  _warn_prf(average, modifier, msg_start, len(result))\n",
            "/usr/local/lib/python3.10/dist-packages/sklearn/metrics/_classification.py:1471: UndefinedMetricWarning: Precision and F-score are ill-defined and being set to 0.0 in labels with no predicted samples. Use `zero_division` parameter to control this behavior.\n",
            "  _warn_prf(average, modifier, msg_start, len(result))\n",
            "/usr/local/lib/python3.10/dist-packages/sklearn/metrics/_classification.py:1471: UndefinedMetricWarning: Recall and F-score are ill-defined and being set to 0.0 in labels with no true samples. Use `zero_division` parameter to control this behavior.\n",
            "  _warn_prf(average, modifier, msg_start, len(result))\n"
          ]
        }
      ]
    }
  ],
  "metadata": {
    "kernelspec": {
      "display_name": "Python 3",
      "name": "python3"
    },
    "language_info": {
      "codemirror_mode": {
        "name": "ipython",
        "version": 3
      },
      "file_extension": ".py",
      "mimetype": "text/x-python",
      "name": "python",
      "nbconvert_exporter": "python",
      "pygments_lexer": "ipython3",
      "version": "3.11.4"
    },
    "colab": {
      "provenance": [],
      "gpuType": "A100",
      "machine_shape": "hm"
    },
    "accelerator": "GPU",
    "widgets": {
      "application/vnd.jupyter.widget-state+json": {
        "2f31e38f418247c3b510262ae7a22fe0": {
          "model_module": "@jupyter-widgets/controls",
          "model_name": "HBoxModel",
          "model_module_version": "1.5.0",
          "state": {
            "_dom_classes": [],
            "_model_module": "@jupyter-widgets/controls",
            "_model_module_version": "1.5.0",
            "_model_name": "HBoxModel",
            "_view_count": null,
            "_view_module": "@jupyter-widgets/controls",
            "_view_module_version": "1.5.0",
            "_view_name": "HBoxView",
            "box_style": "",
            "children": [
              "IPY_MODEL_02a0bbd0df4b4d58bf06505029d48123",
              "IPY_MODEL_936ea032fb204e96a569fd50236f20f1",
              "IPY_MODEL_6f49731d0883426dbf3f9f0a32bc8f10"
            ],
            "layout": "IPY_MODEL_5975b6cf93eb47d38ee23b5be325f7ee"
          }
        },
        "02a0bbd0df4b4d58bf06505029d48123": {
          "model_module": "@jupyter-widgets/controls",
          "model_name": "HTMLModel",
          "model_module_version": "1.5.0",
          "state": {
            "_dom_classes": [],
            "_model_module": "@jupyter-widgets/controls",
            "_model_module_version": "1.5.0",
            "_model_name": "HTMLModel",
            "_view_count": null,
            "_view_module": "@jupyter-widgets/controls",
            "_view_module_version": "1.5.0",
            "_view_name": "HTMLView",
            "description": "",
            "description_tooltip": null,
            "layout": "IPY_MODEL_8cc0c1e922144bf9a53d1b86b01221a0",
            "placeholder": "​",
            "style": "IPY_MODEL_a300c5bc0fbd46daaac60762e53d58ee",
            "value": "config.json: 100%"
          }
        },
        "936ea032fb204e96a569fd50236f20f1": {
          "model_module": "@jupyter-widgets/controls",
          "model_name": "FloatProgressModel",
          "model_module_version": "1.5.0",
          "state": {
            "_dom_classes": [],
            "_model_module": "@jupyter-widgets/controls",
            "_model_module_version": "1.5.0",
            "_model_name": "FloatProgressModel",
            "_view_count": null,
            "_view_module": "@jupyter-widgets/controls",
            "_view_module_version": "1.5.0",
            "_view_name": "ProgressView",
            "bar_style": "success",
            "description": "",
            "description_tooltip": null,
            "layout": "IPY_MODEL_c39bf5d445b740fdbc18ce227314d6ae",
            "max": 413,
            "min": 0,
            "orientation": "horizontal",
            "style": "IPY_MODEL_89d085105b524ee59cb54e3e4c6b9e81",
            "value": 413
          }
        },
        "6f49731d0883426dbf3f9f0a32bc8f10": {
          "model_module": "@jupyter-widgets/controls",
          "model_name": "HTMLModel",
          "model_module_version": "1.5.0",
          "state": {
            "_dom_classes": [],
            "_model_module": "@jupyter-widgets/controls",
            "_model_module_version": "1.5.0",
            "_model_name": "HTMLModel",
            "_view_count": null,
            "_view_module": "@jupyter-widgets/controls",
            "_view_module_version": "1.5.0",
            "_view_name": "HTMLView",
            "description": "",
            "description_tooltip": null,
            "layout": "IPY_MODEL_ccfd90a0827f48ab921ae861a0b73ecc",
            "placeholder": "​",
            "style": "IPY_MODEL_d067289047254a8cbdfb81f5157711d9",
            "value": " 413/413 [00:00&lt;00:00, 32.8kB/s]"
          }
        },
        "5975b6cf93eb47d38ee23b5be325f7ee": {
          "model_module": "@jupyter-widgets/base",
          "model_name": "LayoutModel",
          "model_module_version": "1.2.0",
          "state": {
            "_model_module": "@jupyter-widgets/base",
            "_model_module_version": "1.2.0",
            "_model_name": "LayoutModel",
            "_view_count": null,
            "_view_module": "@jupyter-widgets/base",
            "_view_module_version": "1.2.0",
            "_view_name": "LayoutView",
            "align_content": null,
            "align_items": null,
            "align_self": null,
            "border": null,
            "bottom": null,
            "display": null,
            "flex": null,
            "flex_flow": null,
            "grid_area": null,
            "grid_auto_columns": null,
            "grid_auto_flow": null,
            "grid_auto_rows": null,
            "grid_column": null,
            "grid_gap": null,
            "grid_row": null,
            "grid_template_areas": null,
            "grid_template_columns": null,
            "grid_template_rows": null,
            "height": null,
            "justify_content": null,
            "justify_items": null,
            "left": null,
            "margin": null,
            "max_height": null,
            "max_width": null,
            "min_height": null,
            "min_width": null,
            "object_fit": null,
            "object_position": null,
            "order": null,
            "overflow": null,
            "overflow_x": null,
            "overflow_y": null,
            "padding": null,
            "right": null,
            "top": null,
            "visibility": null,
            "width": null
          }
        },
        "8cc0c1e922144bf9a53d1b86b01221a0": {
          "model_module": "@jupyter-widgets/base",
          "model_name": "LayoutModel",
          "model_module_version": "1.2.0",
          "state": {
            "_model_module": "@jupyter-widgets/base",
            "_model_module_version": "1.2.0",
            "_model_name": "LayoutModel",
            "_view_count": null,
            "_view_module": "@jupyter-widgets/base",
            "_view_module_version": "1.2.0",
            "_view_name": "LayoutView",
            "align_content": null,
            "align_items": null,
            "align_self": null,
            "border": null,
            "bottom": null,
            "display": null,
            "flex": null,
            "flex_flow": null,
            "grid_area": null,
            "grid_auto_columns": null,
            "grid_auto_flow": null,
            "grid_auto_rows": null,
            "grid_column": null,
            "grid_gap": null,
            "grid_row": null,
            "grid_template_areas": null,
            "grid_template_columns": null,
            "grid_template_rows": null,
            "height": null,
            "justify_content": null,
            "justify_items": null,
            "left": null,
            "margin": null,
            "max_height": null,
            "max_width": null,
            "min_height": null,
            "min_width": null,
            "object_fit": null,
            "object_position": null,
            "order": null,
            "overflow": null,
            "overflow_x": null,
            "overflow_y": null,
            "padding": null,
            "right": null,
            "top": null,
            "visibility": null,
            "width": null
          }
        },
        "a300c5bc0fbd46daaac60762e53d58ee": {
          "model_module": "@jupyter-widgets/controls",
          "model_name": "DescriptionStyleModel",
          "model_module_version": "1.5.0",
          "state": {
            "_model_module": "@jupyter-widgets/controls",
            "_model_module_version": "1.5.0",
            "_model_name": "DescriptionStyleModel",
            "_view_count": null,
            "_view_module": "@jupyter-widgets/base",
            "_view_module_version": "1.2.0",
            "_view_name": "StyleView",
            "description_width": ""
          }
        },
        "c39bf5d445b740fdbc18ce227314d6ae": {
          "model_module": "@jupyter-widgets/base",
          "model_name": "LayoutModel",
          "model_module_version": "1.2.0",
          "state": {
            "_model_module": "@jupyter-widgets/base",
            "_model_module_version": "1.2.0",
            "_model_name": "LayoutModel",
            "_view_count": null,
            "_view_module": "@jupyter-widgets/base",
            "_view_module_version": "1.2.0",
            "_view_name": "LayoutView",
            "align_content": null,
            "align_items": null,
            "align_self": null,
            "border": null,
            "bottom": null,
            "display": null,
            "flex": null,
            "flex_flow": null,
            "grid_area": null,
            "grid_auto_columns": null,
            "grid_auto_flow": null,
            "grid_auto_rows": null,
            "grid_column": null,
            "grid_gap": null,
            "grid_row": null,
            "grid_template_areas": null,
            "grid_template_columns": null,
            "grid_template_rows": null,
            "height": null,
            "justify_content": null,
            "justify_items": null,
            "left": null,
            "margin": null,
            "max_height": null,
            "max_width": null,
            "min_height": null,
            "min_width": null,
            "object_fit": null,
            "object_position": null,
            "order": null,
            "overflow": null,
            "overflow_x": null,
            "overflow_y": null,
            "padding": null,
            "right": null,
            "top": null,
            "visibility": null,
            "width": null
          }
        },
        "89d085105b524ee59cb54e3e4c6b9e81": {
          "model_module": "@jupyter-widgets/controls",
          "model_name": "ProgressStyleModel",
          "model_module_version": "1.5.0",
          "state": {
            "_model_module": "@jupyter-widgets/controls",
            "_model_module_version": "1.5.0",
            "_model_name": "ProgressStyleModel",
            "_view_count": null,
            "_view_module": "@jupyter-widgets/base",
            "_view_module_version": "1.2.0",
            "_view_name": "StyleView",
            "bar_color": null,
            "description_width": ""
          }
        },
        "ccfd90a0827f48ab921ae861a0b73ecc": {
          "model_module": "@jupyter-widgets/base",
          "model_name": "LayoutModel",
          "model_module_version": "1.2.0",
          "state": {
            "_model_module": "@jupyter-widgets/base",
            "_model_module_version": "1.2.0",
            "_model_name": "LayoutModel",
            "_view_count": null,
            "_view_module": "@jupyter-widgets/base",
            "_view_module_version": "1.2.0",
            "_view_name": "LayoutView",
            "align_content": null,
            "align_items": null,
            "align_self": null,
            "border": null,
            "bottom": null,
            "display": null,
            "flex": null,
            "flex_flow": null,
            "grid_area": null,
            "grid_auto_columns": null,
            "grid_auto_flow": null,
            "grid_auto_rows": null,
            "grid_column": null,
            "grid_gap": null,
            "grid_row": null,
            "grid_template_areas": null,
            "grid_template_columns": null,
            "grid_template_rows": null,
            "height": null,
            "justify_content": null,
            "justify_items": null,
            "left": null,
            "margin": null,
            "max_height": null,
            "max_width": null,
            "min_height": null,
            "min_width": null,
            "object_fit": null,
            "object_position": null,
            "order": null,
            "overflow": null,
            "overflow_x": null,
            "overflow_y": null,
            "padding": null,
            "right": null,
            "top": null,
            "visibility": null,
            "width": null
          }
        },
        "d067289047254a8cbdfb81f5157711d9": {
          "model_module": "@jupyter-widgets/controls",
          "model_name": "DescriptionStyleModel",
          "model_module_version": "1.5.0",
          "state": {
            "_model_module": "@jupyter-widgets/controls",
            "_model_module_version": "1.5.0",
            "_model_name": "DescriptionStyleModel",
            "_view_count": null,
            "_view_module": "@jupyter-widgets/base",
            "_view_module_version": "1.2.0",
            "_view_name": "StyleView",
            "description_width": ""
          }
        },
        "ff04f00b65014b0fa213b2fc873d4e45": {
          "model_module": "@jupyter-widgets/controls",
          "model_name": "HBoxModel",
          "model_module_version": "1.5.0",
          "state": {
            "_dom_classes": [],
            "_model_module": "@jupyter-widgets/controls",
            "_model_module_version": "1.5.0",
            "_model_name": "HBoxModel",
            "_view_count": null,
            "_view_module": "@jupyter-widgets/controls",
            "_view_module_version": "1.5.0",
            "_view_name": "HBoxView",
            "box_style": "",
            "children": [
              "IPY_MODEL_08ca76cca3e043cd9a10623fad744766",
              "IPY_MODEL_de8466e239f5469fa2e83706c0f1ffe1",
              "IPY_MODEL_5bc647026b214214a7909e488b210fe8"
            ],
            "layout": "IPY_MODEL_e2d2900e014f43bda09eeded49b17f18"
          }
        },
        "08ca76cca3e043cd9a10623fad744766": {
          "model_module": "@jupyter-widgets/controls",
          "model_name": "HTMLModel",
          "model_module_version": "1.5.0",
          "state": {
            "_dom_classes": [],
            "_model_module": "@jupyter-widgets/controls",
            "_model_module_version": "1.5.0",
            "_model_name": "HTMLModel",
            "_view_count": null,
            "_view_module": "@jupyter-widgets/controls",
            "_view_module_version": "1.5.0",
            "_view_name": "HTMLView",
            "description": "",
            "description_tooltip": null,
            "layout": "IPY_MODEL_a6864959478346e88826a1e8ba65c857",
            "placeholder": "​",
            "style": "IPY_MODEL_2b078156355e4b3fabfaf820491ecbc1",
            "value": "vocab.txt: 100%"
          }
        },
        "de8466e239f5469fa2e83706c0f1ffe1": {
          "model_module": "@jupyter-widgets/controls",
          "model_name": "FloatProgressModel",
          "model_module_version": "1.5.0",
          "state": {
            "_dom_classes": [],
            "_model_module": "@jupyter-widgets/controls",
            "_model_module_version": "1.5.0",
            "_model_name": "FloatProgressModel",
            "_view_count": null,
            "_view_module": "@jupyter-widgets/controls",
            "_view_module_version": "1.5.0",
            "_view_name": "ProgressView",
            "bar_style": "success",
            "description": "",
            "description_tooltip": null,
            "layout": "IPY_MODEL_4af60fa4a4d64ab0847a7a22e480f9aa",
            "max": 213450,
            "min": 0,
            "orientation": "horizontal",
            "style": "IPY_MODEL_5929efdfb1974555b9ee3b4129304c36",
            "value": 213450
          }
        },
        "5bc647026b214214a7909e488b210fe8": {
          "model_module": "@jupyter-widgets/controls",
          "model_name": "HTMLModel",
          "model_module_version": "1.5.0",
          "state": {
            "_dom_classes": [],
            "_model_module": "@jupyter-widgets/controls",
            "_model_module_version": "1.5.0",
            "_model_name": "HTMLModel",
            "_view_count": null,
            "_view_module": "@jupyter-widgets/controls",
            "_view_module_version": "1.5.0",
            "_view_name": "HTMLView",
            "description": "",
            "description_tooltip": null,
            "layout": "IPY_MODEL_9bf0ee8291e54bd7b07092b617544f0d",
            "placeholder": "​",
            "style": "IPY_MODEL_4d6e47c11d634d22a9a79628acdf69c3",
            "value": " 213k/213k [00:00&lt;00:00, 12.1MB/s]"
          }
        },
        "e2d2900e014f43bda09eeded49b17f18": {
          "model_module": "@jupyter-widgets/base",
          "model_name": "LayoutModel",
          "model_module_version": "1.2.0",
          "state": {
            "_model_module": "@jupyter-widgets/base",
            "_model_module_version": "1.2.0",
            "_model_name": "LayoutModel",
            "_view_count": null,
            "_view_module": "@jupyter-widgets/base",
            "_view_module_version": "1.2.0",
            "_view_name": "LayoutView",
            "align_content": null,
            "align_items": null,
            "align_self": null,
            "border": null,
            "bottom": null,
            "display": null,
            "flex": null,
            "flex_flow": null,
            "grid_area": null,
            "grid_auto_columns": null,
            "grid_auto_flow": null,
            "grid_auto_rows": null,
            "grid_column": null,
            "grid_gap": null,
            "grid_row": null,
            "grid_template_areas": null,
            "grid_template_columns": null,
            "grid_template_rows": null,
            "height": null,
            "justify_content": null,
            "justify_items": null,
            "left": null,
            "margin": null,
            "max_height": null,
            "max_width": null,
            "min_height": null,
            "min_width": null,
            "object_fit": null,
            "object_position": null,
            "order": null,
            "overflow": null,
            "overflow_x": null,
            "overflow_y": null,
            "padding": null,
            "right": null,
            "top": null,
            "visibility": null,
            "width": null
          }
        },
        "a6864959478346e88826a1e8ba65c857": {
          "model_module": "@jupyter-widgets/base",
          "model_name": "LayoutModel",
          "model_module_version": "1.2.0",
          "state": {
            "_model_module": "@jupyter-widgets/base",
            "_model_module_version": "1.2.0",
            "_model_name": "LayoutModel",
            "_view_count": null,
            "_view_module": "@jupyter-widgets/base",
            "_view_module_version": "1.2.0",
            "_view_name": "LayoutView",
            "align_content": null,
            "align_items": null,
            "align_self": null,
            "border": null,
            "bottom": null,
            "display": null,
            "flex": null,
            "flex_flow": null,
            "grid_area": null,
            "grid_auto_columns": null,
            "grid_auto_flow": null,
            "grid_auto_rows": null,
            "grid_column": null,
            "grid_gap": null,
            "grid_row": null,
            "grid_template_areas": null,
            "grid_template_columns": null,
            "grid_template_rows": null,
            "height": null,
            "justify_content": null,
            "justify_items": null,
            "left": null,
            "margin": null,
            "max_height": null,
            "max_width": null,
            "min_height": null,
            "min_width": null,
            "object_fit": null,
            "object_position": null,
            "order": null,
            "overflow": null,
            "overflow_x": null,
            "overflow_y": null,
            "padding": null,
            "right": null,
            "top": null,
            "visibility": null,
            "width": null
          }
        },
        "2b078156355e4b3fabfaf820491ecbc1": {
          "model_module": "@jupyter-widgets/controls",
          "model_name": "DescriptionStyleModel",
          "model_module_version": "1.5.0",
          "state": {
            "_model_module": "@jupyter-widgets/controls",
            "_model_module_version": "1.5.0",
            "_model_name": "DescriptionStyleModel",
            "_view_count": null,
            "_view_module": "@jupyter-widgets/base",
            "_view_module_version": "1.2.0",
            "_view_name": "StyleView",
            "description_width": ""
          }
        },
        "4af60fa4a4d64ab0847a7a22e480f9aa": {
          "model_module": "@jupyter-widgets/base",
          "model_name": "LayoutModel",
          "model_module_version": "1.2.0",
          "state": {
            "_model_module": "@jupyter-widgets/base",
            "_model_module_version": "1.2.0",
            "_model_name": "LayoutModel",
            "_view_count": null,
            "_view_module": "@jupyter-widgets/base",
            "_view_module_version": "1.2.0",
            "_view_name": "LayoutView",
            "align_content": null,
            "align_items": null,
            "align_self": null,
            "border": null,
            "bottom": null,
            "display": null,
            "flex": null,
            "flex_flow": null,
            "grid_area": null,
            "grid_auto_columns": null,
            "grid_auto_flow": null,
            "grid_auto_rows": null,
            "grid_column": null,
            "grid_gap": null,
            "grid_row": null,
            "grid_template_areas": null,
            "grid_template_columns": null,
            "grid_template_rows": null,
            "height": null,
            "justify_content": null,
            "justify_items": null,
            "left": null,
            "margin": null,
            "max_height": null,
            "max_width": null,
            "min_height": null,
            "min_width": null,
            "object_fit": null,
            "object_position": null,
            "order": null,
            "overflow": null,
            "overflow_x": null,
            "overflow_y": null,
            "padding": null,
            "right": null,
            "top": null,
            "visibility": null,
            "width": null
          }
        },
        "5929efdfb1974555b9ee3b4129304c36": {
          "model_module": "@jupyter-widgets/controls",
          "model_name": "ProgressStyleModel",
          "model_module_version": "1.5.0",
          "state": {
            "_model_module": "@jupyter-widgets/controls",
            "_model_module_version": "1.5.0",
            "_model_name": "ProgressStyleModel",
            "_view_count": null,
            "_view_module": "@jupyter-widgets/base",
            "_view_module_version": "1.2.0",
            "_view_name": "StyleView",
            "bar_color": null,
            "description_width": ""
          }
        },
        "9bf0ee8291e54bd7b07092b617544f0d": {
          "model_module": "@jupyter-widgets/base",
          "model_name": "LayoutModel",
          "model_module_version": "1.2.0",
          "state": {
            "_model_module": "@jupyter-widgets/base",
            "_model_module_version": "1.2.0",
            "_model_name": "LayoutModel",
            "_view_count": null,
            "_view_module": "@jupyter-widgets/base",
            "_view_module_version": "1.2.0",
            "_view_name": "LayoutView",
            "align_content": null,
            "align_items": null,
            "align_self": null,
            "border": null,
            "bottom": null,
            "display": null,
            "flex": null,
            "flex_flow": null,
            "grid_area": null,
            "grid_auto_columns": null,
            "grid_auto_flow": null,
            "grid_auto_rows": null,
            "grid_column": null,
            "grid_gap": null,
            "grid_row": null,
            "grid_template_areas": null,
            "grid_template_columns": null,
            "grid_template_rows": null,
            "height": null,
            "justify_content": null,
            "justify_items": null,
            "left": null,
            "margin": null,
            "max_height": null,
            "max_width": null,
            "min_height": null,
            "min_width": null,
            "object_fit": null,
            "object_position": null,
            "order": null,
            "overflow": null,
            "overflow_x": null,
            "overflow_y": null,
            "padding": null,
            "right": null,
            "top": null,
            "visibility": null,
            "width": null
          }
        },
        "4d6e47c11d634d22a9a79628acdf69c3": {
          "model_module": "@jupyter-widgets/controls",
          "model_name": "DescriptionStyleModel",
          "model_module_version": "1.5.0",
          "state": {
            "_model_module": "@jupyter-widgets/controls",
            "_model_module_version": "1.5.0",
            "_model_name": "DescriptionStyleModel",
            "_view_count": null,
            "_view_module": "@jupyter-widgets/base",
            "_view_module_version": "1.2.0",
            "_view_name": "StyleView",
            "description_width": ""
          }
        },
        "bfb19b1af36e4b8e94cc7625af0d031e": {
          "model_module": "@jupyter-widgets/controls",
          "model_name": "HBoxModel",
          "model_module_version": "1.5.0",
          "state": {
            "_dom_classes": [],
            "_model_module": "@jupyter-widgets/controls",
            "_model_module_version": "1.5.0",
            "_model_name": "HBoxModel",
            "_view_count": null,
            "_view_module": "@jupyter-widgets/controls",
            "_view_module_version": "1.5.0",
            "_view_name": "HBoxView",
            "box_style": "",
            "children": [
              "IPY_MODEL_28f2153e2c3149a6b075d52575b54b8b",
              "IPY_MODEL_d8265075cba0466e87bdd437b745d2a5",
              "IPY_MODEL_fc4c2020d6a94693b5aa349389df676d"
            ],
            "layout": "IPY_MODEL_9247ef6de66e4a1e91372769f81fdf7d"
          }
        },
        "28f2153e2c3149a6b075d52575b54b8b": {
          "model_module": "@jupyter-widgets/controls",
          "model_name": "HTMLModel",
          "model_module_version": "1.5.0",
          "state": {
            "_dom_classes": [],
            "_model_module": "@jupyter-widgets/controls",
            "_model_module_version": "1.5.0",
            "_model_name": "HTMLModel",
            "_view_count": null,
            "_view_module": "@jupyter-widgets/controls",
            "_view_module_version": "1.5.0",
            "_view_name": "HTMLView",
            "description": "",
            "description_tooltip": null,
            "layout": "IPY_MODEL_a9d65769bae0451eab730dd773ce65c1",
            "placeholder": "​",
            "style": "IPY_MODEL_1c7164495eef4dc9846e0b8129e3f395",
            "value": "pytorch_model.bin: 100%"
          }
        },
        "d8265075cba0466e87bdd437b745d2a5": {
          "model_module": "@jupyter-widgets/controls",
          "model_name": "FloatProgressModel",
          "model_module_version": "1.5.0",
          "state": {
            "_dom_classes": [],
            "_model_module": "@jupyter-widgets/controls",
            "_model_module_version": "1.5.0",
            "_model_name": "FloatProgressModel",
            "_view_count": null,
            "_view_module": "@jupyter-widgets/controls",
            "_view_module_version": "1.5.0",
            "_view_name": "ProgressView",
            "bar_style": "success",
            "description": "",
            "description_tooltip": null,
            "layout": "IPY_MODEL_a1fdfa07f7c74462b4efddbaae18d6c5",
            "max": 215475882,
            "min": 0,
            "orientation": "horizontal",
            "style": "IPY_MODEL_6f6321e8db004d29aec24aa5e468c22d",
            "value": 215475882
          }
        },
        "fc4c2020d6a94693b5aa349389df676d": {
          "model_module": "@jupyter-widgets/controls",
          "model_name": "HTMLModel",
          "model_module_version": "1.5.0",
          "state": {
            "_dom_classes": [],
            "_model_module": "@jupyter-widgets/controls",
            "_model_module_version": "1.5.0",
            "_model_name": "HTMLModel",
            "_view_count": null,
            "_view_module": "@jupyter-widgets/controls",
            "_view_module_version": "1.5.0",
            "_view_name": "HTMLView",
            "description": "",
            "description_tooltip": null,
            "layout": "IPY_MODEL_7cbda172156a4db7ad2407ac73c0f015",
            "placeholder": "​",
            "style": "IPY_MODEL_7cd96c1369774be0940e5efbf0afb4b5",
            "value": " 215M/215M [00:13&lt;00:00, 15.9MB/s]"
          }
        },
        "9247ef6de66e4a1e91372769f81fdf7d": {
          "model_module": "@jupyter-widgets/base",
          "model_name": "LayoutModel",
          "model_module_version": "1.2.0",
          "state": {
            "_model_module": "@jupyter-widgets/base",
            "_model_module_version": "1.2.0",
            "_model_name": "LayoutModel",
            "_view_count": null,
            "_view_module": "@jupyter-widgets/base",
            "_view_module_version": "1.2.0",
            "_view_name": "LayoutView",
            "align_content": null,
            "align_items": null,
            "align_self": null,
            "border": null,
            "bottom": null,
            "display": null,
            "flex": null,
            "flex_flow": null,
            "grid_area": null,
            "grid_auto_columns": null,
            "grid_auto_flow": null,
            "grid_auto_rows": null,
            "grid_column": null,
            "grid_gap": null,
            "grid_row": null,
            "grid_template_areas": null,
            "grid_template_columns": null,
            "grid_template_rows": null,
            "height": null,
            "justify_content": null,
            "justify_items": null,
            "left": null,
            "margin": null,
            "max_height": null,
            "max_width": null,
            "min_height": null,
            "min_width": null,
            "object_fit": null,
            "object_position": null,
            "order": null,
            "overflow": null,
            "overflow_x": null,
            "overflow_y": null,
            "padding": null,
            "right": null,
            "top": null,
            "visibility": null,
            "width": null
          }
        },
        "a9d65769bae0451eab730dd773ce65c1": {
          "model_module": "@jupyter-widgets/base",
          "model_name": "LayoutModel",
          "model_module_version": "1.2.0",
          "state": {
            "_model_module": "@jupyter-widgets/base",
            "_model_module_version": "1.2.0",
            "_model_name": "LayoutModel",
            "_view_count": null,
            "_view_module": "@jupyter-widgets/base",
            "_view_module_version": "1.2.0",
            "_view_name": "LayoutView",
            "align_content": null,
            "align_items": null,
            "align_self": null,
            "border": null,
            "bottom": null,
            "display": null,
            "flex": null,
            "flex_flow": null,
            "grid_area": null,
            "grid_auto_columns": null,
            "grid_auto_flow": null,
            "grid_auto_rows": null,
            "grid_column": null,
            "grid_gap": null,
            "grid_row": null,
            "grid_template_areas": null,
            "grid_template_columns": null,
            "grid_template_rows": null,
            "height": null,
            "justify_content": null,
            "justify_items": null,
            "left": null,
            "margin": null,
            "max_height": null,
            "max_width": null,
            "min_height": null,
            "min_width": null,
            "object_fit": null,
            "object_position": null,
            "order": null,
            "overflow": null,
            "overflow_x": null,
            "overflow_y": null,
            "padding": null,
            "right": null,
            "top": null,
            "visibility": null,
            "width": null
          }
        },
        "1c7164495eef4dc9846e0b8129e3f395": {
          "model_module": "@jupyter-widgets/controls",
          "model_name": "DescriptionStyleModel",
          "model_module_version": "1.5.0",
          "state": {
            "_model_module": "@jupyter-widgets/controls",
            "_model_module_version": "1.5.0",
            "_model_name": "DescriptionStyleModel",
            "_view_count": null,
            "_view_module": "@jupyter-widgets/base",
            "_view_module_version": "1.2.0",
            "_view_name": "StyleView",
            "description_width": ""
          }
        },
        "a1fdfa07f7c74462b4efddbaae18d6c5": {
          "model_module": "@jupyter-widgets/base",
          "model_name": "LayoutModel",
          "model_module_version": "1.2.0",
          "state": {
            "_model_module": "@jupyter-widgets/base",
            "_model_module_version": "1.2.0",
            "_model_name": "LayoutModel",
            "_view_count": null,
            "_view_module": "@jupyter-widgets/base",
            "_view_module_version": "1.2.0",
            "_view_name": "LayoutView",
            "align_content": null,
            "align_items": null,
            "align_self": null,
            "border": null,
            "bottom": null,
            "display": null,
            "flex": null,
            "flex_flow": null,
            "grid_area": null,
            "grid_auto_columns": null,
            "grid_auto_flow": null,
            "grid_auto_rows": null,
            "grid_column": null,
            "grid_gap": null,
            "grid_row": null,
            "grid_template_areas": null,
            "grid_template_columns": null,
            "grid_template_rows": null,
            "height": null,
            "justify_content": null,
            "justify_items": null,
            "left": null,
            "margin": null,
            "max_height": null,
            "max_width": null,
            "min_height": null,
            "min_width": null,
            "object_fit": null,
            "object_position": null,
            "order": null,
            "overflow": null,
            "overflow_x": null,
            "overflow_y": null,
            "padding": null,
            "right": null,
            "top": null,
            "visibility": null,
            "width": null
          }
        },
        "6f6321e8db004d29aec24aa5e468c22d": {
          "model_module": "@jupyter-widgets/controls",
          "model_name": "ProgressStyleModel",
          "model_module_version": "1.5.0",
          "state": {
            "_model_module": "@jupyter-widgets/controls",
            "_model_module_version": "1.5.0",
            "_model_name": "ProgressStyleModel",
            "_view_count": null,
            "_view_module": "@jupyter-widgets/base",
            "_view_module_version": "1.2.0",
            "_view_name": "StyleView",
            "bar_color": null,
            "description_width": ""
          }
        },
        "7cbda172156a4db7ad2407ac73c0f015": {
          "model_module": "@jupyter-widgets/base",
          "model_name": "LayoutModel",
          "model_module_version": "1.2.0",
          "state": {
            "_model_module": "@jupyter-widgets/base",
            "_model_module_version": "1.2.0",
            "_model_name": "LayoutModel",
            "_view_count": null,
            "_view_module": "@jupyter-widgets/base",
            "_view_module_version": "1.2.0",
            "_view_name": "LayoutView",
            "align_content": null,
            "align_items": null,
            "align_self": null,
            "border": null,
            "bottom": null,
            "display": null,
            "flex": null,
            "flex_flow": null,
            "grid_area": null,
            "grid_auto_columns": null,
            "grid_auto_flow": null,
            "grid_auto_rows": null,
            "grid_column": null,
            "grid_gap": null,
            "grid_row": null,
            "grid_template_areas": null,
            "grid_template_columns": null,
            "grid_template_rows": null,
            "height": null,
            "justify_content": null,
            "justify_items": null,
            "left": null,
            "margin": null,
            "max_height": null,
            "max_width": null,
            "min_height": null,
            "min_width": null,
            "object_fit": null,
            "object_position": null,
            "order": null,
            "overflow": null,
            "overflow_x": null,
            "overflow_y": null,
            "padding": null,
            "right": null,
            "top": null,
            "visibility": null,
            "width": null
          }
        },
        "7cd96c1369774be0940e5efbf0afb4b5": {
          "model_module": "@jupyter-widgets/controls",
          "model_name": "DescriptionStyleModel",
          "model_module_version": "1.5.0",
          "state": {
            "_model_module": "@jupyter-widgets/controls",
            "_model_module_version": "1.5.0",
            "_model_name": "DescriptionStyleModel",
            "_view_count": null,
            "_view_module": "@jupyter-widgets/base",
            "_view_module_version": "1.2.0",
            "_view_name": "StyleView",
            "description_width": ""
          }
        },
        "b3abc386f6a44098b9c2eba793fde5c5": {
          "model_module": "@jupyter-widgets/controls",
          "model_name": "HBoxModel",
          "model_module_version": "1.5.0",
          "state": {
            "_dom_classes": [],
            "_model_module": "@jupyter-widgets/controls",
            "_model_module_version": "1.5.0",
            "_model_name": "HBoxModel",
            "_view_count": null,
            "_view_module": "@jupyter-widgets/controls",
            "_view_module_version": "1.5.0",
            "_view_name": "HBoxView",
            "box_style": "",
            "children": [
              "IPY_MODEL_032a725b95724fbebcaafbb0d8d3bc84",
              "IPY_MODEL_a2ae243434b64950b58245e29c96a7aa",
              "IPY_MODEL_30c034fbd74643fbb1c69875aec59bff"
            ],
            "layout": "IPY_MODEL_f0d0c9c063f14804a20201e85b6430db"
          }
        },
        "032a725b95724fbebcaafbb0d8d3bc84": {
          "model_module": "@jupyter-widgets/controls",
          "model_name": "HTMLModel",
          "model_module_version": "1.5.0",
          "state": {
            "_dom_classes": [],
            "_model_module": "@jupyter-widgets/controls",
            "_model_module_version": "1.5.0",
            "_model_name": "HTMLModel",
            "_view_count": null,
            "_view_module": "@jupyter-widgets/controls",
            "_view_module_version": "1.5.0",
            "_view_name": "HTMLView",
            "description": "",
            "description_tooltip": null,
            "layout": "IPY_MODEL_d599ab36eb614bcdbb85614990513cda",
            "placeholder": "​",
            "style": "IPY_MODEL_a21c48ed452d4bbebfe4e9552a7afbbf",
            "value": "tokenizer_config.json: 100%"
          }
        },
        "a2ae243434b64950b58245e29c96a7aa": {
          "model_module": "@jupyter-widgets/controls",
          "model_name": "FloatProgressModel",
          "model_module_version": "1.5.0",
          "state": {
            "_dom_classes": [],
            "_model_module": "@jupyter-widgets/controls",
            "_model_module_version": "1.5.0",
            "_model_name": "FloatProgressModel",
            "_view_count": null,
            "_view_module": "@jupyter-widgets/controls",
            "_view_module_version": "1.5.0",
            "_view_name": "ProgressView",
            "bar_style": "success",
            "description": "",
            "description_tooltip": null,
            "layout": "IPY_MODEL_ecbf34aba28f4690a6dc3f55085a31d8",
            "max": 25,
            "min": 0,
            "orientation": "horizontal",
            "style": "IPY_MODEL_520294a227c64265ad41ee34b9f5ac43",
            "value": 25
          }
        },
        "30c034fbd74643fbb1c69875aec59bff": {
          "model_module": "@jupyter-widgets/controls",
          "model_name": "HTMLModel",
          "model_module_version": "1.5.0",
          "state": {
            "_dom_classes": [],
            "_model_module": "@jupyter-widgets/controls",
            "_model_module_version": "1.5.0",
            "_model_name": "HTMLModel",
            "_view_count": null,
            "_view_module": "@jupyter-widgets/controls",
            "_view_module_version": "1.5.0",
            "_view_name": "HTMLView",
            "description": "",
            "description_tooltip": null,
            "layout": "IPY_MODEL_d8d1483a83414935a84e6abe3b47ff2d",
            "placeholder": "​",
            "style": "IPY_MODEL_bfa4efb25de74e31a14fca0758a15694",
            "value": " 25.0/25.0 [00:00&lt;00:00, 2.05kB/s]"
          }
        },
        "f0d0c9c063f14804a20201e85b6430db": {
          "model_module": "@jupyter-widgets/base",
          "model_name": "LayoutModel",
          "model_module_version": "1.2.0",
          "state": {
            "_model_module": "@jupyter-widgets/base",
            "_model_module_version": "1.2.0",
            "_model_name": "LayoutModel",
            "_view_count": null,
            "_view_module": "@jupyter-widgets/base",
            "_view_module_version": "1.2.0",
            "_view_name": "LayoutView",
            "align_content": null,
            "align_items": null,
            "align_self": null,
            "border": null,
            "bottom": null,
            "display": null,
            "flex": null,
            "flex_flow": null,
            "grid_area": null,
            "grid_auto_columns": null,
            "grid_auto_flow": null,
            "grid_auto_rows": null,
            "grid_column": null,
            "grid_gap": null,
            "grid_row": null,
            "grid_template_areas": null,
            "grid_template_columns": null,
            "grid_template_rows": null,
            "height": null,
            "justify_content": null,
            "justify_items": null,
            "left": null,
            "margin": null,
            "max_height": null,
            "max_width": null,
            "min_height": null,
            "min_width": null,
            "object_fit": null,
            "object_position": null,
            "order": null,
            "overflow": null,
            "overflow_x": null,
            "overflow_y": null,
            "padding": null,
            "right": null,
            "top": null,
            "visibility": null,
            "width": null
          }
        },
        "d599ab36eb614bcdbb85614990513cda": {
          "model_module": "@jupyter-widgets/base",
          "model_name": "LayoutModel",
          "model_module_version": "1.2.0",
          "state": {
            "_model_module": "@jupyter-widgets/base",
            "_model_module_version": "1.2.0",
            "_model_name": "LayoutModel",
            "_view_count": null,
            "_view_module": "@jupyter-widgets/base",
            "_view_module_version": "1.2.0",
            "_view_name": "LayoutView",
            "align_content": null,
            "align_items": null,
            "align_self": null,
            "border": null,
            "bottom": null,
            "display": null,
            "flex": null,
            "flex_flow": null,
            "grid_area": null,
            "grid_auto_columns": null,
            "grid_auto_flow": null,
            "grid_auto_rows": null,
            "grid_column": null,
            "grid_gap": null,
            "grid_row": null,
            "grid_template_areas": null,
            "grid_template_columns": null,
            "grid_template_rows": null,
            "height": null,
            "justify_content": null,
            "justify_items": null,
            "left": null,
            "margin": null,
            "max_height": null,
            "max_width": null,
            "min_height": null,
            "min_width": null,
            "object_fit": null,
            "object_position": null,
            "order": null,
            "overflow": null,
            "overflow_x": null,
            "overflow_y": null,
            "padding": null,
            "right": null,
            "top": null,
            "visibility": null,
            "width": null
          }
        },
        "a21c48ed452d4bbebfe4e9552a7afbbf": {
          "model_module": "@jupyter-widgets/controls",
          "model_name": "DescriptionStyleModel",
          "model_module_version": "1.5.0",
          "state": {
            "_model_module": "@jupyter-widgets/controls",
            "_model_module_version": "1.5.0",
            "_model_name": "DescriptionStyleModel",
            "_view_count": null,
            "_view_module": "@jupyter-widgets/base",
            "_view_module_version": "1.2.0",
            "_view_name": "StyleView",
            "description_width": ""
          }
        },
        "ecbf34aba28f4690a6dc3f55085a31d8": {
          "model_module": "@jupyter-widgets/base",
          "model_name": "LayoutModel",
          "model_module_version": "1.2.0",
          "state": {
            "_model_module": "@jupyter-widgets/base",
            "_model_module_version": "1.2.0",
            "_model_name": "LayoutModel",
            "_view_count": null,
            "_view_module": "@jupyter-widgets/base",
            "_view_module_version": "1.2.0",
            "_view_name": "LayoutView",
            "align_content": null,
            "align_items": null,
            "align_self": null,
            "border": null,
            "bottom": null,
            "display": null,
            "flex": null,
            "flex_flow": null,
            "grid_area": null,
            "grid_auto_columns": null,
            "grid_auto_flow": null,
            "grid_auto_rows": null,
            "grid_column": null,
            "grid_gap": null,
            "grid_row": null,
            "grid_template_areas": null,
            "grid_template_columns": null,
            "grid_template_rows": null,
            "height": null,
            "justify_content": null,
            "justify_items": null,
            "left": null,
            "margin": null,
            "max_height": null,
            "max_width": null,
            "min_height": null,
            "min_width": null,
            "object_fit": null,
            "object_position": null,
            "order": null,
            "overflow": null,
            "overflow_x": null,
            "overflow_y": null,
            "padding": null,
            "right": null,
            "top": null,
            "visibility": null,
            "width": null
          }
        },
        "520294a227c64265ad41ee34b9f5ac43": {
          "model_module": "@jupyter-widgets/controls",
          "model_name": "ProgressStyleModel",
          "model_module_version": "1.5.0",
          "state": {
            "_model_module": "@jupyter-widgets/controls",
            "_model_module_version": "1.5.0",
            "_model_name": "ProgressStyleModel",
            "_view_count": null,
            "_view_module": "@jupyter-widgets/base",
            "_view_module_version": "1.2.0",
            "_view_name": "StyleView",
            "bar_color": null,
            "description_width": ""
          }
        },
        "d8d1483a83414935a84e6abe3b47ff2d": {
          "model_module": "@jupyter-widgets/base",
          "model_name": "LayoutModel",
          "model_module_version": "1.2.0",
          "state": {
            "_model_module": "@jupyter-widgets/base",
            "_model_module_version": "1.2.0",
            "_model_name": "LayoutModel",
            "_view_count": null,
            "_view_module": "@jupyter-widgets/base",
            "_view_module_version": "1.2.0",
            "_view_name": "LayoutView",
            "align_content": null,
            "align_items": null,
            "align_self": null,
            "border": null,
            "bottom": null,
            "display": null,
            "flex": null,
            "flex_flow": null,
            "grid_area": null,
            "grid_auto_columns": null,
            "grid_auto_flow": null,
            "grid_auto_rows": null,
            "grid_column": null,
            "grid_gap": null,
            "grid_row": null,
            "grid_template_areas": null,
            "grid_template_columns": null,
            "grid_template_rows": null,
            "height": null,
            "justify_content": null,
            "justify_items": null,
            "left": null,
            "margin": null,
            "max_height": null,
            "max_width": null,
            "min_height": null,
            "min_width": null,
            "object_fit": null,
            "object_position": null,
            "order": null,
            "overflow": null,
            "overflow_x": null,
            "overflow_y": null,
            "padding": null,
            "right": null,
            "top": null,
            "visibility": null,
            "width": null
          }
        },
        "bfa4efb25de74e31a14fca0758a15694": {
          "model_module": "@jupyter-widgets/controls",
          "model_name": "DescriptionStyleModel",
          "model_module_version": "1.5.0",
          "state": {
            "_model_module": "@jupyter-widgets/controls",
            "_model_module_version": "1.5.0",
            "_model_name": "DescriptionStyleModel",
            "_view_count": null,
            "_view_module": "@jupyter-widgets/base",
            "_view_module_version": "1.2.0",
            "_view_name": "StyleView",
            "description_width": ""
          }
        },
        "71d3b61849a641fe8470057682c5069c": {
          "model_module": "@jupyter-widgets/controls",
          "model_name": "HBoxModel",
          "model_module_version": "1.5.0",
          "state": {
            "_dom_classes": [],
            "_model_module": "@jupyter-widgets/controls",
            "_model_module_version": "1.5.0",
            "_model_name": "HBoxModel",
            "_view_count": null,
            "_view_module": "@jupyter-widgets/controls",
            "_view_module_version": "1.5.0",
            "_view_name": "HBoxView",
            "box_style": "",
            "children": [
              "IPY_MODEL_95dd1120cbb54acba6adac20e421b816",
              "IPY_MODEL_67da86998d454b14bc17a574cd984161",
              "IPY_MODEL_9f856f6efbef4bd08fa12d15ddc9de0f"
            ],
            "layout": "IPY_MODEL_f594165008db402bb43ef34854c357d4"
          }
        },
        "95dd1120cbb54acba6adac20e421b816": {
          "model_module": "@jupyter-widgets/controls",
          "model_name": "HTMLModel",
          "model_module_version": "1.5.0",
          "state": {
            "_dom_classes": [],
            "_model_module": "@jupyter-widgets/controls",
            "_model_module_version": "1.5.0",
            "_model_name": "HTMLModel",
            "_view_count": null,
            "_view_module": "@jupyter-widgets/controls",
            "_view_module_version": "1.5.0",
            "_view_name": "HTMLView",
            "description": "",
            "description_tooltip": null,
            "layout": "IPY_MODEL_3dadc02af12b40ec8b1c58d7d01cce8d",
            "placeholder": "​",
            "style": "IPY_MODEL_21a8a17ce7c24b7094f413eeab0e4f6e",
            "value": "vocab.json: 100%"
          }
        },
        "67da86998d454b14bc17a574cd984161": {
          "model_module": "@jupyter-widgets/controls",
          "model_name": "FloatProgressModel",
          "model_module_version": "1.5.0",
          "state": {
            "_dom_classes": [],
            "_model_module": "@jupyter-widgets/controls",
            "_model_module_version": "1.5.0",
            "_model_name": "FloatProgressModel",
            "_view_count": null,
            "_view_module": "@jupyter-widgets/controls",
            "_view_module_version": "1.5.0",
            "_view_name": "ProgressView",
            "bar_style": "success",
            "description": "",
            "description_tooltip": null,
            "layout": "IPY_MODEL_933a114dbb8f4c1e9100c1cee9c626ec",
            "max": 898823,
            "min": 0,
            "orientation": "horizontal",
            "style": "IPY_MODEL_efd16a3cead14d45aacc7994560a1780",
            "value": 898823
          }
        },
        "9f856f6efbef4bd08fa12d15ddc9de0f": {
          "model_module": "@jupyter-widgets/controls",
          "model_name": "HTMLModel",
          "model_module_version": "1.5.0",
          "state": {
            "_dom_classes": [],
            "_model_module": "@jupyter-widgets/controls",
            "_model_module_version": "1.5.0",
            "_model_name": "HTMLModel",
            "_view_count": null,
            "_view_module": "@jupyter-widgets/controls",
            "_view_module_version": "1.5.0",
            "_view_name": "HTMLView",
            "description": "",
            "description_tooltip": null,
            "layout": "IPY_MODEL_55e4140358e145a78894e6096f1886bd",
            "placeholder": "​",
            "style": "IPY_MODEL_296f76fec6d64c8983dc02dfe254fb3f",
            "value": " 899k/899k [00:00&lt;00:00, 14.8MB/s]"
          }
        },
        "f594165008db402bb43ef34854c357d4": {
          "model_module": "@jupyter-widgets/base",
          "model_name": "LayoutModel",
          "model_module_version": "1.2.0",
          "state": {
            "_model_module": "@jupyter-widgets/base",
            "_model_module_version": "1.2.0",
            "_model_name": "LayoutModel",
            "_view_count": null,
            "_view_module": "@jupyter-widgets/base",
            "_view_module_version": "1.2.0",
            "_view_name": "LayoutView",
            "align_content": null,
            "align_items": null,
            "align_self": null,
            "border": null,
            "bottom": null,
            "display": null,
            "flex": null,
            "flex_flow": null,
            "grid_area": null,
            "grid_auto_columns": null,
            "grid_auto_flow": null,
            "grid_auto_rows": null,
            "grid_column": null,
            "grid_gap": null,
            "grid_row": null,
            "grid_template_areas": null,
            "grid_template_columns": null,
            "grid_template_rows": null,
            "height": null,
            "justify_content": null,
            "justify_items": null,
            "left": null,
            "margin": null,
            "max_height": null,
            "max_width": null,
            "min_height": null,
            "min_width": null,
            "object_fit": null,
            "object_position": null,
            "order": null,
            "overflow": null,
            "overflow_x": null,
            "overflow_y": null,
            "padding": null,
            "right": null,
            "top": null,
            "visibility": null,
            "width": null
          }
        },
        "3dadc02af12b40ec8b1c58d7d01cce8d": {
          "model_module": "@jupyter-widgets/base",
          "model_name": "LayoutModel",
          "model_module_version": "1.2.0",
          "state": {
            "_model_module": "@jupyter-widgets/base",
            "_model_module_version": "1.2.0",
            "_model_name": "LayoutModel",
            "_view_count": null,
            "_view_module": "@jupyter-widgets/base",
            "_view_module_version": "1.2.0",
            "_view_name": "LayoutView",
            "align_content": null,
            "align_items": null,
            "align_self": null,
            "border": null,
            "bottom": null,
            "display": null,
            "flex": null,
            "flex_flow": null,
            "grid_area": null,
            "grid_auto_columns": null,
            "grid_auto_flow": null,
            "grid_auto_rows": null,
            "grid_column": null,
            "grid_gap": null,
            "grid_row": null,
            "grid_template_areas": null,
            "grid_template_columns": null,
            "grid_template_rows": null,
            "height": null,
            "justify_content": null,
            "justify_items": null,
            "left": null,
            "margin": null,
            "max_height": null,
            "max_width": null,
            "min_height": null,
            "min_width": null,
            "object_fit": null,
            "object_position": null,
            "order": null,
            "overflow": null,
            "overflow_x": null,
            "overflow_y": null,
            "padding": null,
            "right": null,
            "top": null,
            "visibility": null,
            "width": null
          }
        },
        "21a8a17ce7c24b7094f413eeab0e4f6e": {
          "model_module": "@jupyter-widgets/controls",
          "model_name": "DescriptionStyleModel",
          "model_module_version": "1.5.0",
          "state": {
            "_model_module": "@jupyter-widgets/controls",
            "_model_module_version": "1.5.0",
            "_model_name": "DescriptionStyleModel",
            "_view_count": null,
            "_view_module": "@jupyter-widgets/base",
            "_view_module_version": "1.2.0",
            "_view_name": "StyleView",
            "description_width": ""
          }
        },
        "933a114dbb8f4c1e9100c1cee9c626ec": {
          "model_module": "@jupyter-widgets/base",
          "model_name": "LayoutModel",
          "model_module_version": "1.2.0",
          "state": {
            "_model_module": "@jupyter-widgets/base",
            "_model_module_version": "1.2.0",
            "_model_name": "LayoutModel",
            "_view_count": null,
            "_view_module": "@jupyter-widgets/base",
            "_view_module_version": "1.2.0",
            "_view_name": "LayoutView",
            "align_content": null,
            "align_items": null,
            "align_self": null,
            "border": null,
            "bottom": null,
            "display": null,
            "flex": null,
            "flex_flow": null,
            "grid_area": null,
            "grid_auto_columns": null,
            "grid_auto_flow": null,
            "grid_auto_rows": null,
            "grid_column": null,
            "grid_gap": null,
            "grid_row": null,
            "grid_template_areas": null,
            "grid_template_columns": null,
            "grid_template_rows": null,
            "height": null,
            "justify_content": null,
            "justify_items": null,
            "left": null,
            "margin": null,
            "max_height": null,
            "max_width": null,
            "min_height": null,
            "min_width": null,
            "object_fit": null,
            "object_position": null,
            "order": null,
            "overflow": null,
            "overflow_x": null,
            "overflow_y": null,
            "padding": null,
            "right": null,
            "top": null,
            "visibility": null,
            "width": null
          }
        },
        "efd16a3cead14d45aacc7994560a1780": {
          "model_module": "@jupyter-widgets/controls",
          "model_name": "ProgressStyleModel",
          "model_module_version": "1.5.0",
          "state": {
            "_model_module": "@jupyter-widgets/controls",
            "_model_module_version": "1.5.0",
            "_model_name": "ProgressStyleModel",
            "_view_count": null,
            "_view_module": "@jupyter-widgets/base",
            "_view_module_version": "1.2.0",
            "_view_name": "StyleView",
            "bar_color": null,
            "description_width": ""
          }
        },
        "55e4140358e145a78894e6096f1886bd": {
          "model_module": "@jupyter-widgets/base",
          "model_name": "LayoutModel",
          "model_module_version": "1.2.0",
          "state": {
            "_model_module": "@jupyter-widgets/base",
            "_model_module_version": "1.2.0",
            "_model_name": "LayoutModel",
            "_view_count": null,
            "_view_module": "@jupyter-widgets/base",
            "_view_module_version": "1.2.0",
            "_view_name": "LayoutView",
            "align_content": null,
            "align_items": null,
            "align_self": null,
            "border": null,
            "bottom": null,
            "display": null,
            "flex": null,
            "flex_flow": null,
            "grid_area": null,
            "grid_auto_columns": null,
            "grid_auto_flow": null,
            "grid_auto_rows": null,
            "grid_column": null,
            "grid_gap": null,
            "grid_row": null,
            "grid_template_areas": null,
            "grid_template_columns": null,
            "grid_template_rows": null,
            "height": null,
            "justify_content": null,
            "justify_items": null,
            "left": null,
            "margin": null,
            "max_height": null,
            "max_width": null,
            "min_height": null,
            "min_width": null,
            "object_fit": null,
            "object_position": null,
            "order": null,
            "overflow": null,
            "overflow_x": null,
            "overflow_y": null,
            "padding": null,
            "right": null,
            "top": null,
            "visibility": null,
            "width": null
          }
        },
        "296f76fec6d64c8983dc02dfe254fb3f": {
          "model_module": "@jupyter-widgets/controls",
          "model_name": "DescriptionStyleModel",
          "model_module_version": "1.5.0",
          "state": {
            "_model_module": "@jupyter-widgets/controls",
            "_model_module_version": "1.5.0",
            "_model_name": "DescriptionStyleModel",
            "_view_count": null,
            "_view_module": "@jupyter-widgets/base",
            "_view_module_version": "1.2.0",
            "_view_name": "StyleView",
            "description_width": ""
          }
        },
        "4d17e05472034c0ab9ec109b3c60984b": {
          "model_module": "@jupyter-widgets/controls",
          "model_name": "HBoxModel",
          "model_module_version": "1.5.0",
          "state": {
            "_dom_classes": [],
            "_model_module": "@jupyter-widgets/controls",
            "_model_module_version": "1.5.0",
            "_model_name": "HBoxModel",
            "_view_count": null,
            "_view_module": "@jupyter-widgets/controls",
            "_view_module_version": "1.5.0",
            "_view_name": "HBoxView",
            "box_style": "",
            "children": [
              "IPY_MODEL_11af9f235e6140b0a7b71bcb2f559e56",
              "IPY_MODEL_32f7f6c1899d4a1bb02f4f01b56522a1",
              "IPY_MODEL_53f4f97b34aa47a196ffb745e8ca7db7"
            ],
            "layout": "IPY_MODEL_cf32d5b6b4c4451ca7d920b5238efbe2"
          }
        },
        "11af9f235e6140b0a7b71bcb2f559e56": {
          "model_module": "@jupyter-widgets/controls",
          "model_name": "HTMLModel",
          "model_module_version": "1.5.0",
          "state": {
            "_dom_classes": [],
            "_model_module": "@jupyter-widgets/controls",
            "_model_module_version": "1.5.0",
            "_model_name": "HTMLModel",
            "_view_count": null,
            "_view_module": "@jupyter-widgets/controls",
            "_view_module_version": "1.5.0",
            "_view_name": "HTMLView",
            "description": "",
            "description_tooltip": null,
            "layout": "IPY_MODEL_2fac451a9d8e4874a55312e98174fe4b",
            "placeholder": "​",
            "style": "IPY_MODEL_ea4c1a6babd44694978f5e1124bdfa7b",
            "value": "merges.txt: 100%"
          }
        },
        "32f7f6c1899d4a1bb02f4f01b56522a1": {
          "model_module": "@jupyter-widgets/controls",
          "model_name": "FloatProgressModel",
          "model_module_version": "1.5.0",
          "state": {
            "_dom_classes": [],
            "_model_module": "@jupyter-widgets/controls",
            "_model_module_version": "1.5.0",
            "_model_name": "FloatProgressModel",
            "_view_count": null,
            "_view_module": "@jupyter-widgets/controls",
            "_view_module_version": "1.5.0",
            "_view_name": "ProgressView",
            "bar_style": "success",
            "description": "",
            "description_tooltip": null,
            "layout": "IPY_MODEL_91e5615b55d04ee6bb9807d651668b97",
            "max": 456318,
            "min": 0,
            "orientation": "horizontal",
            "style": "IPY_MODEL_843eee1028bf47ea81e27c8485bb4b43",
            "value": 456318
          }
        },
        "53f4f97b34aa47a196ffb745e8ca7db7": {
          "model_module": "@jupyter-widgets/controls",
          "model_name": "HTMLModel",
          "model_module_version": "1.5.0",
          "state": {
            "_dom_classes": [],
            "_model_module": "@jupyter-widgets/controls",
            "_model_module_version": "1.5.0",
            "_model_name": "HTMLModel",
            "_view_count": null,
            "_view_module": "@jupyter-widgets/controls",
            "_view_module_version": "1.5.0",
            "_view_name": "HTMLView",
            "description": "",
            "description_tooltip": null,
            "layout": "IPY_MODEL_70d0670102ad480c9ac24cab9a34d2c2",
            "placeholder": "​",
            "style": "IPY_MODEL_56ae56a14f9a4e00bea21f065acfdcdf",
            "value": " 456k/456k [00:00&lt;00:00, 32.0MB/s]"
          }
        },
        "cf32d5b6b4c4451ca7d920b5238efbe2": {
          "model_module": "@jupyter-widgets/base",
          "model_name": "LayoutModel",
          "model_module_version": "1.2.0",
          "state": {
            "_model_module": "@jupyter-widgets/base",
            "_model_module_version": "1.2.0",
            "_model_name": "LayoutModel",
            "_view_count": null,
            "_view_module": "@jupyter-widgets/base",
            "_view_module_version": "1.2.0",
            "_view_name": "LayoutView",
            "align_content": null,
            "align_items": null,
            "align_self": null,
            "border": null,
            "bottom": null,
            "display": null,
            "flex": null,
            "flex_flow": null,
            "grid_area": null,
            "grid_auto_columns": null,
            "grid_auto_flow": null,
            "grid_auto_rows": null,
            "grid_column": null,
            "grid_gap": null,
            "grid_row": null,
            "grid_template_areas": null,
            "grid_template_columns": null,
            "grid_template_rows": null,
            "height": null,
            "justify_content": null,
            "justify_items": null,
            "left": null,
            "margin": null,
            "max_height": null,
            "max_width": null,
            "min_height": null,
            "min_width": null,
            "object_fit": null,
            "object_position": null,
            "order": null,
            "overflow": null,
            "overflow_x": null,
            "overflow_y": null,
            "padding": null,
            "right": null,
            "top": null,
            "visibility": null,
            "width": null
          }
        },
        "2fac451a9d8e4874a55312e98174fe4b": {
          "model_module": "@jupyter-widgets/base",
          "model_name": "LayoutModel",
          "model_module_version": "1.2.0",
          "state": {
            "_model_module": "@jupyter-widgets/base",
            "_model_module_version": "1.2.0",
            "_model_name": "LayoutModel",
            "_view_count": null,
            "_view_module": "@jupyter-widgets/base",
            "_view_module_version": "1.2.0",
            "_view_name": "LayoutView",
            "align_content": null,
            "align_items": null,
            "align_self": null,
            "border": null,
            "bottom": null,
            "display": null,
            "flex": null,
            "flex_flow": null,
            "grid_area": null,
            "grid_auto_columns": null,
            "grid_auto_flow": null,
            "grid_auto_rows": null,
            "grid_column": null,
            "grid_gap": null,
            "grid_row": null,
            "grid_template_areas": null,
            "grid_template_columns": null,
            "grid_template_rows": null,
            "height": null,
            "justify_content": null,
            "justify_items": null,
            "left": null,
            "margin": null,
            "max_height": null,
            "max_width": null,
            "min_height": null,
            "min_width": null,
            "object_fit": null,
            "object_position": null,
            "order": null,
            "overflow": null,
            "overflow_x": null,
            "overflow_y": null,
            "padding": null,
            "right": null,
            "top": null,
            "visibility": null,
            "width": null
          }
        },
        "ea4c1a6babd44694978f5e1124bdfa7b": {
          "model_module": "@jupyter-widgets/controls",
          "model_name": "DescriptionStyleModel",
          "model_module_version": "1.5.0",
          "state": {
            "_model_module": "@jupyter-widgets/controls",
            "_model_module_version": "1.5.0",
            "_model_name": "DescriptionStyleModel",
            "_view_count": null,
            "_view_module": "@jupyter-widgets/base",
            "_view_module_version": "1.2.0",
            "_view_name": "StyleView",
            "description_width": ""
          }
        },
        "91e5615b55d04ee6bb9807d651668b97": {
          "model_module": "@jupyter-widgets/base",
          "model_name": "LayoutModel",
          "model_module_version": "1.2.0",
          "state": {
            "_model_module": "@jupyter-widgets/base",
            "_model_module_version": "1.2.0",
            "_model_name": "LayoutModel",
            "_view_count": null,
            "_view_module": "@jupyter-widgets/base",
            "_view_module_version": "1.2.0",
            "_view_name": "LayoutView",
            "align_content": null,
            "align_items": null,
            "align_self": null,
            "border": null,
            "bottom": null,
            "display": null,
            "flex": null,
            "flex_flow": null,
            "grid_area": null,
            "grid_auto_columns": null,
            "grid_auto_flow": null,
            "grid_auto_rows": null,
            "grid_column": null,
            "grid_gap": null,
            "grid_row": null,
            "grid_template_areas": null,
            "grid_template_columns": null,
            "grid_template_rows": null,
            "height": null,
            "justify_content": null,
            "justify_items": null,
            "left": null,
            "margin": null,
            "max_height": null,
            "max_width": null,
            "min_height": null,
            "min_width": null,
            "object_fit": null,
            "object_position": null,
            "order": null,
            "overflow": null,
            "overflow_x": null,
            "overflow_y": null,
            "padding": null,
            "right": null,
            "top": null,
            "visibility": null,
            "width": null
          }
        },
        "843eee1028bf47ea81e27c8485bb4b43": {
          "model_module": "@jupyter-widgets/controls",
          "model_name": "ProgressStyleModel",
          "model_module_version": "1.5.0",
          "state": {
            "_model_module": "@jupyter-widgets/controls",
            "_model_module_version": "1.5.0",
            "_model_name": "ProgressStyleModel",
            "_view_count": null,
            "_view_module": "@jupyter-widgets/base",
            "_view_module_version": "1.2.0",
            "_view_name": "StyleView",
            "bar_color": null,
            "description_width": ""
          }
        },
        "70d0670102ad480c9ac24cab9a34d2c2": {
          "model_module": "@jupyter-widgets/base",
          "model_name": "LayoutModel",
          "model_module_version": "1.2.0",
          "state": {
            "_model_module": "@jupyter-widgets/base",
            "_model_module_version": "1.2.0",
            "_model_name": "LayoutModel",
            "_view_count": null,
            "_view_module": "@jupyter-widgets/base",
            "_view_module_version": "1.2.0",
            "_view_name": "LayoutView",
            "align_content": null,
            "align_items": null,
            "align_self": null,
            "border": null,
            "bottom": null,
            "display": null,
            "flex": null,
            "flex_flow": null,
            "grid_area": null,
            "grid_auto_columns": null,
            "grid_auto_flow": null,
            "grid_auto_rows": null,
            "grid_column": null,
            "grid_gap": null,
            "grid_row": null,
            "grid_template_areas": null,
            "grid_template_columns": null,
            "grid_template_rows": null,
            "height": null,
            "justify_content": null,
            "justify_items": null,
            "left": null,
            "margin": null,
            "max_height": null,
            "max_width": null,
            "min_height": null,
            "min_width": null,
            "object_fit": null,
            "object_position": null,
            "order": null,
            "overflow": null,
            "overflow_x": null,
            "overflow_y": null,
            "padding": null,
            "right": null,
            "top": null,
            "visibility": null,
            "width": null
          }
        },
        "56ae56a14f9a4e00bea21f065acfdcdf": {
          "model_module": "@jupyter-widgets/controls",
          "model_name": "DescriptionStyleModel",
          "model_module_version": "1.5.0",
          "state": {
            "_model_module": "@jupyter-widgets/controls",
            "_model_module_version": "1.5.0",
            "_model_name": "DescriptionStyleModel",
            "_view_count": null,
            "_view_module": "@jupyter-widgets/base",
            "_view_module_version": "1.2.0",
            "_view_name": "StyleView",
            "description_width": ""
          }
        },
        "887abf6c50d743c29cc8f7b5ab91423d": {
          "model_module": "@jupyter-widgets/controls",
          "model_name": "HBoxModel",
          "model_module_version": "1.5.0",
          "state": {
            "_dom_classes": [],
            "_model_module": "@jupyter-widgets/controls",
            "_model_module_version": "1.5.0",
            "_model_name": "HBoxModel",
            "_view_count": null,
            "_view_module": "@jupyter-widgets/controls",
            "_view_module_version": "1.5.0",
            "_view_name": "HBoxView",
            "box_style": "",
            "children": [
              "IPY_MODEL_158511f08cf0429c926688f6b1f33a70",
              "IPY_MODEL_bc02bf304cad44db80b2a8e5c41dd524",
              "IPY_MODEL_6b6aa8c8a4774616a514d40e53ddbd61"
            ],
            "layout": "IPY_MODEL_d985d4ddb37344edb70034b6e3f386a3"
          }
        },
        "158511f08cf0429c926688f6b1f33a70": {
          "model_module": "@jupyter-widgets/controls",
          "model_name": "HTMLModel",
          "model_module_version": "1.5.0",
          "state": {
            "_dom_classes": [],
            "_model_module": "@jupyter-widgets/controls",
            "_model_module_version": "1.5.0",
            "_model_name": "HTMLModel",
            "_view_count": null,
            "_view_module": "@jupyter-widgets/controls",
            "_view_module_version": "1.5.0",
            "_view_name": "HTMLView",
            "description": "",
            "description_tooltip": null,
            "layout": "IPY_MODEL_8d9dce13fbd14db8b61fcbe6cefe4311",
            "placeholder": "​",
            "style": "IPY_MODEL_60f7ca1cbeed427fa03cb9460b18edb9",
            "value": "tokenizer.json: 100%"
          }
        },
        "bc02bf304cad44db80b2a8e5c41dd524": {
          "model_module": "@jupyter-widgets/controls",
          "model_name": "FloatProgressModel",
          "model_module_version": "1.5.0",
          "state": {
            "_dom_classes": [],
            "_model_module": "@jupyter-widgets/controls",
            "_model_module_version": "1.5.0",
            "_model_name": "FloatProgressModel",
            "_view_count": null,
            "_view_module": "@jupyter-widgets/controls",
            "_view_module_version": "1.5.0",
            "_view_name": "ProgressView",
            "bar_style": "success",
            "description": "",
            "description_tooltip": null,
            "layout": "IPY_MODEL_c7ebdba9e7ef49b6b03bc349a2e54fff",
            "max": 1355863,
            "min": 0,
            "orientation": "horizontal",
            "style": "IPY_MODEL_b2367d8ae34043cb811b6930277279c1",
            "value": 1355863
          }
        },
        "6b6aa8c8a4774616a514d40e53ddbd61": {
          "model_module": "@jupyter-widgets/controls",
          "model_name": "HTMLModel",
          "model_module_version": "1.5.0",
          "state": {
            "_dom_classes": [],
            "_model_module": "@jupyter-widgets/controls",
            "_model_module_version": "1.5.0",
            "_model_name": "HTMLModel",
            "_view_count": null,
            "_view_module": "@jupyter-widgets/controls",
            "_view_module_version": "1.5.0",
            "_view_name": "HTMLView",
            "description": "",
            "description_tooltip": null,
            "layout": "IPY_MODEL_32574edcce2c49a5a02e1f92b3739bb6",
            "placeholder": "​",
            "style": "IPY_MODEL_e26a3732df4046d3be7b1d241b1ab4f1",
            "value": " 1.36M/1.36M [00:00&lt;00:00, 6.04MB/s]"
          }
        },
        "d985d4ddb37344edb70034b6e3f386a3": {
          "model_module": "@jupyter-widgets/base",
          "model_name": "LayoutModel",
          "model_module_version": "1.2.0",
          "state": {
            "_model_module": "@jupyter-widgets/base",
            "_model_module_version": "1.2.0",
            "_model_name": "LayoutModel",
            "_view_count": null,
            "_view_module": "@jupyter-widgets/base",
            "_view_module_version": "1.2.0",
            "_view_name": "LayoutView",
            "align_content": null,
            "align_items": null,
            "align_self": null,
            "border": null,
            "bottom": null,
            "display": null,
            "flex": null,
            "flex_flow": null,
            "grid_area": null,
            "grid_auto_columns": null,
            "grid_auto_flow": null,
            "grid_auto_rows": null,
            "grid_column": null,
            "grid_gap": null,
            "grid_row": null,
            "grid_template_areas": null,
            "grid_template_columns": null,
            "grid_template_rows": null,
            "height": null,
            "justify_content": null,
            "justify_items": null,
            "left": null,
            "margin": null,
            "max_height": null,
            "max_width": null,
            "min_height": null,
            "min_width": null,
            "object_fit": null,
            "object_position": null,
            "order": null,
            "overflow": null,
            "overflow_x": null,
            "overflow_y": null,
            "padding": null,
            "right": null,
            "top": null,
            "visibility": null,
            "width": null
          }
        },
        "8d9dce13fbd14db8b61fcbe6cefe4311": {
          "model_module": "@jupyter-widgets/base",
          "model_name": "LayoutModel",
          "model_module_version": "1.2.0",
          "state": {
            "_model_module": "@jupyter-widgets/base",
            "_model_module_version": "1.2.0",
            "_model_name": "LayoutModel",
            "_view_count": null,
            "_view_module": "@jupyter-widgets/base",
            "_view_module_version": "1.2.0",
            "_view_name": "LayoutView",
            "align_content": null,
            "align_items": null,
            "align_self": null,
            "border": null,
            "bottom": null,
            "display": null,
            "flex": null,
            "flex_flow": null,
            "grid_area": null,
            "grid_auto_columns": null,
            "grid_auto_flow": null,
            "grid_auto_rows": null,
            "grid_column": null,
            "grid_gap": null,
            "grid_row": null,
            "grid_template_areas": null,
            "grid_template_columns": null,
            "grid_template_rows": null,
            "height": null,
            "justify_content": null,
            "justify_items": null,
            "left": null,
            "margin": null,
            "max_height": null,
            "max_width": null,
            "min_height": null,
            "min_width": null,
            "object_fit": null,
            "object_position": null,
            "order": null,
            "overflow": null,
            "overflow_x": null,
            "overflow_y": null,
            "padding": null,
            "right": null,
            "top": null,
            "visibility": null,
            "width": null
          }
        },
        "60f7ca1cbeed427fa03cb9460b18edb9": {
          "model_module": "@jupyter-widgets/controls",
          "model_name": "DescriptionStyleModel",
          "model_module_version": "1.5.0",
          "state": {
            "_model_module": "@jupyter-widgets/controls",
            "_model_module_version": "1.5.0",
            "_model_name": "DescriptionStyleModel",
            "_view_count": null,
            "_view_module": "@jupyter-widgets/base",
            "_view_module_version": "1.2.0",
            "_view_name": "StyleView",
            "description_width": ""
          }
        },
        "c7ebdba9e7ef49b6b03bc349a2e54fff": {
          "model_module": "@jupyter-widgets/base",
          "model_name": "LayoutModel",
          "model_module_version": "1.2.0",
          "state": {
            "_model_module": "@jupyter-widgets/base",
            "_model_module_version": "1.2.0",
            "_model_name": "LayoutModel",
            "_view_count": null,
            "_view_module": "@jupyter-widgets/base",
            "_view_module_version": "1.2.0",
            "_view_name": "LayoutView",
            "align_content": null,
            "align_items": null,
            "align_self": null,
            "border": null,
            "bottom": null,
            "display": null,
            "flex": null,
            "flex_flow": null,
            "grid_area": null,
            "grid_auto_columns": null,
            "grid_auto_flow": null,
            "grid_auto_rows": null,
            "grid_column": null,
            "grid_gap": null,
            "grid_row": null,
            "grid_template_areas": null,
            "grid_template_columns": null,
            "grid_template_rows": null,
            "height": null,
            "justify_content": null,
            "justify_items": null,
            "left": null,
            "margin": null,
            "max_height": null,
            "max_width": null,
            "min_height": null,
            "min_width": null,
            "object_fit": null,
            "object_position": null,
            "order": null,
            "overflow": null,
            "overflow_x": null,
            "overflow_y": null,
            "padding": null,
            "right": null,
            "top": null,
            "visibility": null,
            "width": null
          }
        },
        "b2367d8ae34043cb811b6930277279c1": {
          "model_module": "@jupyter-widgets/controls",
          "model_name": "ProgressStyleModel",
          "model_module_version": "1.5.0",
          "state": {
            "_model_module": "@jupyter-widgets/controls",
            "_model_module_version": "1.5.0",
            "_model_name": "ProgressStyleModel",
            "_view_count": null,
            "_view_module": "@jupyter-widgets/base",
            "_view_module_version": "1.2.0",
            "_view_name": "StyleView",
            "bar_color": null,
            "description_width": ""
          }
        },
        "32574edcce2c49a5a02e1f92b3739bb6": {
          "model_module": "@jupyter-widgets/base",
          "model_name": "LayoutModel",
          "model_module_version": "1.2.0",
          "state": {
            "_model_module": "@jupyter-widgets/base",
            "_model_module_version": "1.2.0",
            "_model_name": "LayoutModel",
            "_view_count": null,
            "_view_module": "@jupyter-widgets/base",
            "_view_module_version": "1.2.0",
            "_view_name": "LayoutView",
            "align_content": null,
            "align_items": null,
            "align_self": null,
            "border": null,
            "bottom": null,
            "display": null,
            "flex": null,
            "flex_flow": null,
            "grid_area": null,
            "grid_auto_columns": null,
            "grid_auto_flow": null,
            "grid_auto_rows": null,
            "grid_column": null,
            "grid_gap": null,
            "grid_row": null,
            "grid_template_areas": null,
            "grid_template_columns": null,
            "grid_template_rows": null,
            "height": null,
            "justify_content": null,
            "justify_items": null,
            "left": null,
            "margin": null,
            "max_height": null,
            "max_width": null,
            "min_height": null,
            "min_width": null,
            "object_fit": null,
            "object_position": null,
            "order": null,
            "overflow": null,
            "overflow_x": null,
            "overflow_y": null,
            "padding": null,
            "right": null,
            "top": null,
            "visibility": null,
            "width": null
          }
        },
        "e26a3732df4046d3be7b1d241b1ab4f1": {
          "model_module": "@jupyter-widgets/controls",
          "model_name": "DescriptionStyleModel",
          "model_module_version": "1.5.0",
          "state": {
            "_model_module": "@jupyter-widgets/controls",
            "_model_module_version": "1.5.0",
            "_model_name": "DescriptionStyleModel",
            "_view_count": null,
            "_view_module": "@jupyter-widgets/base",
            "_view_module_version": "1.2.0",
            "_view_name": "StyleView",
            "description_width": ""
          }
        },
        "8af59f9de34c470aa4003b3858b6dede": {
          "model_module": "@jupyter-widgets/controls",
          "model_name": "HBoxModel",
          "model_module_version": "1.5.0",
          "state": {
            "_dom_classes": [],
            "_model_module": "@jupyter-widgets/controls",
            "_model_module_version": "1.5.0",
            "_model_name": "HBoxModel",
            "_view_count": null,
            "_view_module": "@jupyter-widgets/controls",
            "_view_module_version": "1.5.0",
            "_view_name": "HBoxView",
            "box_style": "",
            "children": [
              "IPY_MODEL_d7bf53e2a938410ba146b3f93df3bdbb",
              "IPY_MODEL_9819dc3c22214c679d1f26130d1806c4",
              "IPY_MODEL_cebb9f8216d9479b93e10c0b6501983e"
            ],
            "layout": "IPY_MODEL_1321ee5db5b64ea08e235b29b191b0ca"
          }
        },
        "d7bf53e2a938410ba146b3f93df3bdbb": {
          "model_module": "@jupyter-widgets/controls",
          "model_name": "HTMLModel",
          "model_module_version": "1.5.0",
          "state": {
            "_dom_classes": [],
            "_model_module": "@jupyter-widgets/controls",
            "_model_module_version": "1.5.0",
            "_model_name": "HTMLModel",
            "_view_count": null,
            "_view_module": "@jupyter-widgets/controls",
            "_view_module_version": "1.5.0",
            "_view_name": "HTMLView",
            "description": "",
            "description_tooltip": null,
            "layout": "IPY_MODEL_6684505b4a9a47b884f4cd325d250f7b",
            "placeholder": "​",
            "style": "IPY_MODEL_f973cbf69ac046eaadb3272233ece9de",
            "value": "config.json: 100%"
          }
        },
        "9819dc3c22214c679d1f26130d1806c4": {
          "model_module": "@jupyter-widgets/controls",
          "model_name": "FloatProgressModel",
          "model_module_version": "1.5.0",
          "state": {
            "_dom_classes": [],
            "_model_module": "@jupyter-widgets/controls",
            "_model_module_version": "1.5.0",
            "_model_name": "FloatProgressModel",
            "_view_count": null,
            "_view_module": "@jupyter-widgets/controls",
            "_view_module_version": "1.5.0",
            "_view_name": "ProgressView",
            "bar_style": "success",
            "description": "",
            "description_tooltip": null,
            "layout": "IPY_MODEL_c10b619fad0a462eb46de7e57c2caed2",
            "max": 481,
            "min": 0,
            "orientation": "horizontal",
            "style": "IPY_MODEL_0d3f356d001e4562926db78122b19f10",
            "value": 481
          }
        },
        "cebb9f8216d9479b93e10c0b6501983e": {
          "model_module": "@jupyter-widgets/controls",
          "model_name": "HTMLModel",
          "model_module_version": "1.5.0",
          "state": {
            "_dom_classes": [],
            "_model_module": "@jupyter-widgets/controls",
            "_model_module_version": "1.5.0",
            "_model_name": "HTMLModel",
            "_view_count": null,
            "_view_module": "@jupyter-widgets/controls",
            "_view_module_version": "1.5.0",
            "_view_name": "HTMLView",
            "description": "",
            "description_tooltip": null,
            "layout": "IPY_MODEL_8b63c1480611475f9f08304781cce063",
            "placeholder": "​",
            "style": "IPY_MODEL_694825fa25d045e88dd20b7615d10520",
            "value": " 481/481 [00:00&lt;00:00, 38.8kB/s]"
          }
        },
        "1321ee5db5b64ea08e235b29b191b0ca": {
          "model_module": "@jupyter-widgets/base",
          "model_name": "LayoutModel",
          "model_module_version": "1.2.0",
          "state": {
            "_model_module": "@jupyter-widgets/base",
            "_model_module_version": "1.2.0",
            "_model_name": "LayoutModel",
            "_view_count": null,
            "_view_module": "@jupyter-widgets/base",
            "_view_module_version": "1.2.0",
            "_view_name": "LayoutView",
            "align_content": null,
            "align_items": null,
            "align_self": null,
            "border": null,
            "bottom": null,
            "display": null,
            "flex": null,
            "flex_flow": null,
            "grid_area": null,
            "grid_auto_columns": null,
            "grid_auto_flow": null,
            "grid_auto_rows": null,
            "grid_column": null,
            "grid_gap": null,
            "grid_row": null,
            "grid_template_areas": null,
            "grid_template_columns": null,
            "grid_template_rows": null,
            "height": null,
            "justify_content": null,
            "justify_items": null,
            "left": null,
            "margin": null,
            "max_height": null,
            "max_width": null,
            "min_height": null,
            "min_width": null,
            "object_fit": null,
            "object_position": null,
            "order": null,
            "overflow": null,
            "overflow_x": null,
            "overflow_y": null,
            "padding": null,
            "right": null,
            "top": null,
            "visibility": null,
            "width": null
          }
        },
        "6684505b4a9a47b884f4cd325d250f7b": {
          "model_module": "@jupyter-widgets/base",
          "model_name": "LayoutModel",
          "model_module_version": "1.2.0",
          "state": {
            "_model_module": "@jupyter-widgets/base",
            "_model_module_version": "1.2.0",
            "_model_name": "LayoutModel",
            "_view_count": null,
            "_view_module": "@jupyter-widgets/base",
            "_view_module_version": "1.2.0",
            "_view_name": "LayoutView",
            "align_content": null,
            "align_items": null,
            "align_self": null,
            "border": null,
            "bottom": null,
            "display": null,
            "flex": null,
            "flex_flow": null,
            "grid_area": null,
            "grid_auto_columns": null,
            "grid_auto_flow": null,
            "grid_auto_rows": null,
            "grid_column": null,
            "grid_gap": null,
            "grid_row": null,
            "grid_template_areas": null,
            "grid_template_columns": null,
            "grid_template_rows": null,
            "height": null,
            "justify_content": null,
            "justify_items": null,
            "left": null,
            "margin": null,
            "max_height": null,
            "max_width": null,
            "min_height": null,
            "min_width": null,
            "object_fit": null,
            "object_position": null,
            "order": null,
            "overflow": null,
            "overflow_x": null,
            "overflow_y": null,
            "padding": null,
            "right": null,
            "top": null,
            "visibility": null,
            "width": null
          }
        },
        "f973cbf69ac046eaadb3272233ece9de": {
          "model_module": "@jupyter-widgets/controls",
          "model_name": "DescriptionStyleModel",
          "model_module_version": "1.5.0",
          "state": {
            "_model_module": "@jupyter-widgets/controls",
            "_model_module_version": "1.5.0",
            "_model_name": "DescriptionStyleModel",
            "_view_count": null,
            "_view_module": "@jupyter-widgets/base",
            "_view_module_version": "1.2.0",
            "_view_name": "StyleView",
            "description_width": ""
          }
        },
        "c10b619fad0a462eb46de7e57c2caed2": {
          "model_module": "@jupyter-widgets/base",
          "model_name": "LayoutModel",
          "model_module_version": "1.2.0",
          "state": {
            "_model_module": "@jupyter-widgets/base",
            "_model_module_version": "1.2.0",
            "_model_name": "LayoutModel",
            "_view_count": null,
            "_view_module": "@jupyter-widgets/base",
            "_view_module_version": "1.2.0",
            "_view_name": "LayoutView",
            "align_content": null,
            "align_items": null,
            "align_self": null,
            "border": null,
            "bottom": null,
            "display": null,
            "flex": null,
            "flex_flow": null,
            "grid_area": null,
            "grid_auto_columns": null,
            "grid_auto_flow": null,
            "grid_auto_rows": null,
            "grid_column": null,
            "grid_gap": null,
            "grid_row": null,
            "grid_template_areas": null,
            "grid_template_columns": null,
            "grid_template_rows": null,
            "height": null,
            "justify_content": null,
            "justify_items": null,
            "left": null,
            "margin": null,
            "max_height": null,
            "max_width": null,
            "min_height": null,
            "min_width": null,
            "object_fit": null,
            "object_position": null,
            "order": null,
            "overflow": null,
            "overflow_x": null,
            "overflow_y": null,
            "padding": null,
            "right": null,
            "top": null,
            "visibility": null,
            "width": null
          }
        },
        "0d3f356d001e4562926db78122b19f10": {
          "model_module": "@jupyter-widgets/controls",
          "model_name": "ProgressStyleModel",
          "model_module_version": "1.5.0",
          "state": {
            "_model_module": "@jupyter-widgets/controls",
            "_model_module_version": "1.5.0",
            "_model_name": "ProgressStyleModel",
            "_view_count": null,
            "_view_module": "@jupyter-widgets/base",
            "_view_module_version": "1.2.0",
            "_view_name": "StyleView",
            "bar_color": null,
            "description_width": ""
          }
        },
        "8b63c1480611475f9f08304781cce063": {
          "model_module": "@jupyter-widgets/base",
          "model_name": "LayoutModel",
          "model_module_version": "1.2.0",
          "state": {
            "_model_module": "@jupyter-widgets/base",
            "_model_module_version": "1.2.0",
            "_model_name": "LayoutModel",
            "_view_count": null,
            "_view_module": "@jupyter-widgets/base",
            "_view_module_version": "1.2.0",
            "_view_name": "LayoutView",
            "align_content": null,
            "align_items": null,
            "align_self": null,
            "border": null,
            "bottom": null,
            "display": null,
            "flex": null,
            "flex_flow": null,
            "grid_area": null,
            "grid_auto_columns": null,
            "grid_auto_flow": null,
            "grid_auto_rows": null,
            "grid_column": null,
            "grid_gap": null,
            "grid_row": null,
            "grid_template_areas": null,
            "grid_template_columns": null,
            "grid_template_rows": null,
            "height": null,
            "justify_content": null,
            "justify_items": null,
            "left": null,
            "margin": null,
            "max_height": null,
            "max_width": null,
            "min_height": null,
            "min_width": null,
            "object_fit": null,
            "object_position": null,
            "order": null,
            "overflow": null,
            "overflow_x": null,
            "overflow_y": null,
            "padding": null,
            "right": null,
            "top": null,
            "visibility": null,
            "width": null
          }
        },
        "694825fa25d045e88dd20b7615d10520": {
          "model_module": "@jupyter-widgets/controls",
          "model_name": "DescriptionStyleModel",
          "model_module_version": "1.5.0",
          "state": {
            "_model_module": "@jupyter-widgets/controls",
            "_model_module_version": "1.5.0",
            "_model_name": "DescriptionStyleModel",
            "_view_count": null,
            "_view_module": "@jupyter-widgets/base",
            "_view_module_version": "1.2.0",
            "_view_name": "StyleView",
            "description_width": ""
          }
        }
      }
    }
  },
  "nbformat": 4,
  "nbformat_minor": 5
}